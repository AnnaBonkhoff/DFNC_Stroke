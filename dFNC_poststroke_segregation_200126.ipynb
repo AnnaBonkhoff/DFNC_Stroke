{
 "cells": [
  {
   "cell_type": "markdown",
   "metadata": {},
   "source": [
    "Computation of system segregation according to the formula in \n",
    "Chan, M. Y., Park, D. C., Savalia, N. K., Petersen, S. E., & Wig, G. S. (2014). Decreased segregation of brain systems across the healthy adult lifespan. Proceedings of the National Academy of Sciences, 111(46), E4997-E5006."
   ]
  },
  {
   "cell_type": "code",
   "execution_count": 68,
   "metadata": {},
   "outputs": [],
   "source": [
    "import numpy as np\n",
    "import pandas as pd\n",
    "from scipy.io import loadmat\n",
    "import glob\n",
    "import os\n",
    "import sys\n",
    "import matplotlib.pyplot as plt\n",
    "import seaborn as sns\n",
    "sns.set(style=\"white\")\n",
    "from scipy import stats\n",
    "import statsmodels.api as sm\n",
    "from statsmodels.formula.api import ols\n",
    "import statsmodels.stats.multicomp\n",
    "import pyreadstat\n",
    "from pingouin import pairwise_corr\n",
    "import scipy.stats as chi2_contingency\n",
    "import scipy.stats as stats\n",
    "from scipy.spatial import distance\n",
    "pd.set_option('display.max_columns', 200)\n",
    "pd.set_option('display.max_rows', 200)"
   ]
  },
  {
   "cell_type": "code",
   "execution_count": 69,
   "metadata": {},
   "outputs": [],
   "source": [
    "def calc_num_components(a):\n",
    "    num_pairs = len(a)\n",
    "    num_components = int(np.ceil(np.sqrt(2 * num_pairs - 1)))\n",
    "    if num_components * (num_components - 1) == 2 * num_pairs:\n",
    "        return num_components\n",
    "    else:\n",
    "        return 0\n",
    "\n",
    "\n",
    "def return_dfnc_from_vector(a):\n",
    "    '''This Function returns a dfnc matrix given a vector\n",
    "        a : the vector of correlation pairs\n",
    "    '''\n",
    "    n = calc_num_components(a)\n",
    "    out = np.zeros((n, n))\n",
    "\n",
    "    if not n:\n",
    "        return out\n",
    "    \n",
    "    l_indices = np.tril_indices(n, -1)\n",
    "    u_indices = np.triu_indices(n, 1)\n",
    "\n",
    "    out[u_indices] = a\n",
    "    out[l_indices] = out.T[l_indices]\n",
    "    \n",
    "    return out"
   ]
  },
  {
   "cell_type": "code",
   "execution_count": 70,
   "metadata": {},
   "outputs": [],
   "source": [
    "n_subjects = 48\n",
    "n_controls = 17\n",
    "n_controls_1 = 16\n",
    "n_patients = 31\n",
    "n_windows = 159\n",
    "n_corr = 78"
   ]
  },
  {
   "cell_type": "code",
   "execution_count": 72,
   "metadata": {},
   "outputs": [],
   "source": [
    "worse= [34, 28, 19, 33, 42, 37, 25, 29, 27, 45, 46, 17, 31] # 46\n",
    "better = [36, 38,35, 40, 41, 43,  39,  32, 18, 30, 26, 24, 23, 22, 21, 20, 44, 47] # 44\n",
    "worse_dropped = [34, 28, 19, 33, 42, 37, 25, 29, 27, 44, 17, 31]\n",
    "better_dropped = [36, 38,  35, 40, 41, 43, 39,  32, 18, 30, 26, 24, 23, 22, 21, 20, 45]"
   ]
  },
  {
   "cell_type": "code",
   "execution_count": 73,
   "metadata": {},
   "outputs": [],
   "source": [
    "# loading state information \n",
    "x = loadmat('states_stroke.mat')[\"a\"]\n",
    "for n in range(0,np.shape(x)[0],1):\n",
    "    if n==0:\n",
    "        states = pd.DataFrame(x[n][0])\n",
    "    else:\n",
    "        states[n] = pd.DataFrame(x[n][0])\n",
    "states = states.transpose()"
   ]
  },
  {
   "cell_type": "code",
   "execution_count": 74,
   "metadata": {},
   "outputs": [],
   "source": [
    "if sys.platform == 'darwin': # OS X\n",
    "    subject_names = glob.glob('/Users/anna/Documents/LV_Stroke_new/Data/DFNC_LV_no15_0307/WithSM_dfnc_sub*',)\n",
    "else: # all other operating systems\n",
    "    print('Please enter the windows system path at this line. Thanks!!!')\n",
    "subject_names = sorted(subject_names)"
   ]
  },
  {
   "cell_type": "code",
   "execution_count": 75,
   "metadata": {},
   "outputs": [],
   "source": [
    "# Analysis of system segregation in case of static connectivity\n",
    "sfnc = loadmat('/Users/anna/Documents/LV_Stroke_new/Data/Mancovan_LV_no15_1607/sfnc_corrs.mat')[\"static\"]\n",
    "sfnc_1_group_med = pd.DataFrame(return_dfnc_from_vector(pd.DataFrame(sfnc).mean()))"
   ]
  },
  {
   "cell_type": "code",
   "execution_count": 14,
   "metadata": {},
   "outputs": [],
   "source": [
    "# Computation of static system segregation (please note: negative connectivity paris are set to 0)\n",
    "seg_11_all = []\n",
    "for n in range(48):\n",
    "    dfnc_1_group_med = pd.DataFrame(return_dfnc_from_vector(sfnc[n]))\n",
    "\n",
    "    dfnc_1_group_med_SM = dfnc_1_group_med.loc[0:7,0:7]*(dfnc_1_group_med.loc[0:7,0:7]>0)\n",
    "    dfnc_1_group_med_SM = np.array(dfnc_1_group_med_SM)[np.triu_indices(8,1)]\n",
    "    dfnc_1_group_med_SC = dfnc_1_group_med.loc[8:10,8:10]*(dfnc_1_group_med.loc[8:10,8:10]>0)\n",
    "    dfnc_1_group_med_SC = np.array(dfnc_1_group_med_SC)[np.triu_indices(3,1)]\n",
    "    dfnc_1_group_med_CB = dfnc_1_group_med.loc[11:12,11:12]*(dfnc_1_group_med.loc[11:12,11:12]>0)\n",
    "    dfnc_1_group_med_CB = np.array(dfnc_1_group_med_CB)[np.triu_indices(2,1)]\n",
    "    within_1 = np.concatenate([dfnc_1_group_med_SM, dfnc_1_group_med_SC, dfnc_1_group_med_CB])\n",
    "    within_1 = np.sum(within_1)/(len(dfnc_1_group_med_SM) +len(dfnc_1_group_med_SC)+len(dfnc_1_group_med_CB)) \n",
    "    dfnc_1_group_med_SM_SC_CB = np.array(dfnc_1_group_med.loc[8:,0:7]*(dfnc_1_group_med.loc[8:,0:7]>0))\n",
    "    dfnc_1_group_med_SC_CB = np.array(dfnc_1_group_med.loc[8:10,11:]*(dfnc_1_group_med.loc[8:10,11:]>0))\n",
    "    between_1 = np.concatenate([np.ravel(dfnc_1_group_med_SM_SC_CB),np.ravel(dfnc_1_group_med_SC_CB)])\n",
    "    between_1 = np.sum(between_1)/(len(np.ravel(dfnc_1_group_med_SM_SC_CB)) +len(np.ravel(dfnc_1_group_med_SC_CB))) \n",
    "    seg_11 = (within_1 - between_1) / within_1\n",
    "    seg_11_all.append(seg_11)"
   ]
  },
  {
   "cell_type": "code",
   "execution_count": 15,
   "metadata": {},
   "outputs": [
    {
     "data": {
      "text/plain": [
       "F_onewayResult(statistic=array([0.96437774]), pvalue=array([0.38895846]))"
      ]
     },
     "execution_count": 15,
     "metadata": {},
     "output_type": "execute_result"
    }
   ],
   "source": [
    "# One-way ANOVA testing for group differences between controls and patient subgroups for static system segregation \n",
    "stats.f_oneway(pd.DataFrame(seg_11_all).loc[0:16], pd.DataFrame(seg_11_all).loc[better],pd.DataFrame(seg_11_all).loc[worse])"
   ]
  },
  {
   "cell_type": "code",
   "execution_count": 16,
   "metadata": {},
   "outputs": [
    {
     "data": {
      "text/plain": [
       "0    0.917022\n",
       "dtype: float64"
      ]
     },
     "execution_count": 16,
     "metadata": {},
     "output_type": "execute_result"
    }
   ],
   "source": [
    "#Healthy: Mean static system segregation \n",
    "pd.DataFrame(seg_11_all).loc[0:16].mean()"
   ]
  },
  {
   "cell_type": "code",
   "execution_count": 17,
   "metadata": {},
   "outputs": [
    {
     "data": {
      "text/plain": [
       "0    0.878426\n",
       "dtype: float64"
      ]
     },
     "execution_count": 17,
     "metadata": {},
     "output_type": "execute_result"
    }
   ],
   "source": [
    "#Moderately: Mean static system segregation \n",
    "pd.DataFrame(seg_11_all).loc[better].mean()"
   ]
  },
  {
   "cell_type": "code",
   "execution_count": 18,
   "metadata": {},
   "outputs": [
    {
     "data": {
      "text/plain": [
       "0    0.913993\n",
       "dtype: float64"
      ]
     },
     "execution_count": 18,
     "metadata": {},
     "output_type": "execute_result"
    }
   ],
   "source": [
    "#Severely: Mean static system segregation \n",
    "pd.DataFrame(seg_11_all).loc[worse].mean()"
   ]
  },
  {
   "cell_type": "code",
   "execution_count": 20,
   "metadata": {},
   "outputs": [],
   "source": [
    "# loading dynamic functional connectivity matrices\n",
    "dfnc = np.zeros((n_subjects,n_windows,n_corr))\n",
    "for n in range(0,n_subjects,1):\n",
    "    \n",
    "    dfnc[n] = loadmat(subject_names[n][-40:])['FNCdyn']"
   ]
  },
  {
   "cell_type": "code",
   "execution_count": 21,
   "metadata": {},
   "outputs": [],
   "source": [
    "# Creating state averages (MEDIAN) per subject\n",
    "dfnc_1_med = pd.DataFrame(np.zeros((n_subjects, n_corr)))\n",
    "dfnc_2_med = pd.DataFrame(np.zeros((n_subjects, n_corr)))\n",
    "dfnc_3_med = pd.DataFrame(np.zeros((n_subjects, n_corr)))\n",
    "\n",
    "for n in range(0,n_subjects,1):\n",
    "        dfnc_1_med.loc[n] = np.array(pd.DataFrame(dfnc[n][states.loc[n]==1]).median(axis=0))\n",
    "        #dfnc_1_med.loc[n] = np.array(pd.DataFrame(dfnc[n][states.loc[n]==1]).mean(axis=0))\n",
    "        dfnc_1_med = pd.DataFrame(dfnc_1_med)\n",
    "        dfnc_2_med.loc[n] = np.array(pd.DataFrame(dfnc[n][states.loc[n]==2]).median(axis=0))\n",
    "        #dfnc_2_med.loc[n] = np.array(pd.DataFrame(dfnc[n][states.loc[n]==2]).mean(axis=0))\n",
    "        dfnc_2_med = pd.DataFrame(dfnc_2_med)\n",
    "        dfnc_3_med.loc[n] = np.array(pd.DataFrame(dfnc[n][states.loc[n]==3]).median(axis=0))\n",
    "        #dfnc_3_med.loc[n] = np.array(pd.DataFrame(dfnc[n][states.loc[n]==3]).mean(axis=0))\n",
    "        dfnc_3_med = pd.DataFrame(dfnc_3_med)"
   ]
  },
  {
   "cell_type": "code",
   "execution_count": 80,
   "metadata": {},
   "outputs": [],
   "source": [
    "# Computing system segregation for median dynamic connectivity matrices\n",
    "seg_11_all = []\n",
    "seg_12_all = []\n",
    "seg_13_all = []\n",
    "\n",
    "for n in range(48):\n",
    "    dfnc_1_group_med = pd.DataFrame(return_dfnc_from_vector(dfnc_1_med.loc[n]))\n",
    "    dfnc_2_group_med = pd.DataFrame(return_dfnc_from_vector(dfnc_2_med.loc[n]))\n",
    "    dfnc_3_group_med = pd.DataFrame(return_dfnc_from_vector(dfnc_3_med.loc[n]))\n",
    "    \n",
    "    dfnc_1_group_med_SM = dfnc_1_group_med.loc[0:7,0:7]*(dfnc_1_group_med.loc[0:7,0:7]>0)\n",
    "    dfnc_1_group_med_SM = np.array(dfnc_1_group_med_SM)[np.triu_indices(8,1)]\n",
    "    dfnc_1_group_med_SC = dfnc_1_group_med.loc[8:10,8:10]*(dfnc_1_group_med.loc[8:10,8:10]>0)\n",
    "    dfnc_1_group_med_SC = np.array(dfnc_1_group_med_SC)[np.triu_indices(3,1)]\n",
    "    dfnc_1_group_med_CB = dfnc_1_group_med.loc[11:12,11:12]*(dfnc_1_group_med.loc[11:12,11:12]>0)\n",
    "    dfnc_1_group_med_CB = np.array(dfnc_1_group_med_CB)[np.triu_indices(2,1)]\n",
    "    within_1 = np.concatenate([dfnc_1_group_med_SM, dfnc_1_group_med_SC, dfnc_1_group_med_CB])\n",
    "    within_1 = np.sum(within_1)/(len(dfnc_1_group_med_SM) +len(dfnc_1_group_med_SC)+len(dfnc_1_group_med_CB)) \n",
    "    dfnc_1_group_med_SM_SC_CB = np.array(dfnc_1_group_med.loc[8:,0:7]*(dfnc_1_group_med.loc[8:,0:7]>0))\n",
    "    dfnc_1_group_med_SC_CB = np.array(dfnc_1_group_med.loc[8:10,11:]*(dfnc_1_group_med.loc[8:10,11:]>0))\n",
    "    between_1 = np.concatenate([np.ravel(dfnc_1_group_med_SM_SC_CB),np.ravel(dfnc_1_group_med_SC_CB)])\n",
    "    between_1 = np.sum(between_1)/(len(np.ravel(dfnc_3_group_med_SM_SC_CB)) +len(np.ravel(dfnc_3_group_med_SC_CB))) \n",
    "    seg_11 = (within_1 - between_1) / within_1\n",
    "    seg_11_all.append(seg_11)\n",
    "    \n",
    "    dfnc_2_group_med_SM = dfnc_2_group_med.loc[0:7,0:7]*(dfnc_2_group_med.loc[0:7,0:7]>0)\n",
    "    dfnc_2_group_med_SM = np.array(dfnc_2_group_med_SM)[np.triu_indices(8,1)]\n",
    "    dfnc_2_group_med_SC = dfnc_2_group_med.loc[8:10,8:10]*(dfnc_2_group_med.loc[8:10,8:10]>0)\n",
    "    dfnc_2_group_med_SC = np.array(dfnc_2_group_med_SC)[np.triu_indices(3,1)]\n",
    "    dfnc_2_group_med_CB = dfnc_2_group_med.loc[11:12,11:12]*(dfnc_2_group_med.loc[11:12,11:12]>0)\n",
    "    dfnc_2_group_med_CB = np.array(dfnc_2_group_med_CB)[np.triu_indices(2,1)]\n",
    "    within_2 = np.concatenate([dfnc_2_group_med_SM, dfnc_2_group_med_SC, dfnc_2_group_med_CB])\n",
    "    within_2 = np.sum(within_2)/(len(dfnc_2_group_med_SM) +len(dfnc_2_group_med_SC)+len(dfnc_2_group_med_CB)) \n",
    "    dfnc_2_group_med_SM_SC_CB = np.array(dfnc_2_group_med.loc[8:,0:7]*(dfnc_2_group_med.loc[8:,0:7]>0))\n",
    "    dfnc_2_group_med_SC_CB = np.array(dfnc_2_group_med.loc[8:10,11:]*(dfnc_2_group_med.loc[8:10,11:]>0))\n",
    "    between_2 = np.concatenate([np.ravel(dfnc_2_group_med_SM_SC_CB),np.ravel(dfnc_2_group_med_SC_CB)])\n",
    "    between_2 = np.sum(between_2)/(len(np.ravel(dfnc_3_group_med_SM_SC_CB)) +len(np.ravel(dfnc_3_group_med_SC_CB))) \n",
    "    seg_22 = (within_2 - between_2) / within_2\n",
    "    seg_12_all.append(seg_22)\n",
    "    \n",
    "    dfnc_3_group_med_SM = dfnc_3_group_med.loc[0:7,0:7]*(dfnc_3_group_med.loc[0:7,0:7]>0)\n",
    "    dfnc_3_group_med_SM = np.array(dfnc_3_group_med_SM)[np.triu_indices(8,1)]\n",
    "    dfnc_3_group_med_SC = dfnc_3_group_med.loc[8:10,8:10]*(dfnc_3_group_med.loc[8:10,8:10]>0)\n",
    "    dfnc_3_group_med_SC = np.array(dfnc_3_group_med_SC)[np.triu_indices(3,1)]\n",
    "    dfnc_3_group_med_CB = dfnc_3_group_med.loc[11:12,11:12]*(dfnc_2_group_med.loc[11:12,11:12]>0)\n",
    "    dfnc_3_group_med_CB = np.array(dfnc_3_group_med_CB)[np.triu_indices(2,1)]\n",
    "    within_3 = np.concatenate([dfnc_3_group_med_SM, dfnc_3_group_med_SC, dfnc_3_group_med_CB])\n",
    "    within_3 = np.sum(within_3)/(len(dfnc_3_group_med_SM) +len(dfnc_3_group_med_SC)+len(dfnc_3_group_med_CB)) \n",
    "    dfnc_3_group_med_SM_SC_CB = np.array(dfnc_3_group_med.loc[8:,0:7]*(dfnc_3_group_med.loc[8:,0:7]>0))\n",
    "    dfnc_3_group_med_SC_CB = np.array(dfnc_3_group_med.loc[8:10,11:]*(dfnc_3_group_med.loc[8:10,11:]>0))\n",
    "    between_3 = np.concatenate([np.ravel(dfnc_3_group_med_SM_SC_CB),np.ravel(dfnc_3_group_med_SC_CB)])\n",
    "    between_3 = np.sum(between_3)/(len(np.ravel(dfnc_3_group_med_SM_SC_CB)) +len(np.ravel(dfnc_3_group_med_SC_CB))) \n",
    "    seg_33 = (within_3 - between_3) / within_3\n",
    "    seg_13_all.append(seg_33)\n"
   ]
  },
  {
   "cell_type": "code",
   "execution_count": 81,
   "metadata": {},
   "outputs": [
    {
     "data": {
      "text/plain": [
       "0    0.950746\n",
       "dtype: float64"
      ]
     },
     "execution_count": 81,
     "metadata": {},
     "output_type": "execute_result"
    }
   ],
   "source": [
    "# System segregation of State 1\n",
    "pd.DataFrame(seg_11_all).mean()"
   ]
  },
  {
   "cell_type": "code",
   "execution_count": 83,
   "metadata": {},
   "outputs": [
    {
     "data": {
      "text/plain": [
       "0    0.885219\n",
       "dtype: float64"
      ]
     },
     "execution_count": 83,
     "metadata": {},
     "output_type": "execute_result"
    }
   ],
   "source": [
    "# System segregation of State 1\n",
    "pd.DataFrame(seg_12_all).mean()"
   ]
  },
  {
   "cell_type": "code",
   "execution_count": 85,
   "metadata": {},
   "outputs": [
    {
     "data": {
      "text/plain": [
       "0    0.827221\n",
       "dtype: float64"
      ]
     },
     "execution_count": 85,
     "metadata": {},
     "output_type": "execute_result"
    }
   ],
   "source": [
    "# System segregation of State 1\n",
    "pd.DataFrame(seg_13_all).mean()"
   ]
  },
  {
   "cell_type": "code",
   "execution_count": 87,
   "metadata": {},
   "outputs": [
    {
     "data": {
      "text/plain": [
       "F_onewayResult(statistic=array([18.80643062]), pvalue=array([8.42876255e-08]))"
      ]
     },
     "execution_count": 87,
     "metadata": {},
     "output_type": "execute_result"
    }
   ],
   "source": [
    "# Testing for group differences between the three states:\n",
    "stats.f_oneway(pd.DataFrame(seg_11_all).dropna(), pd.DataFrame(seg_12_all).dropna(),pd.DataFrame(seg_13_all).dropna())"
   ]
  },
  {
   "cell_type": "code",
   "execution_count": 88,
   "metadata": {},
   "outputs": [
    {
     "data": {
      "text/plain": [
       "Ttest_indResult(statistic=array([2.77212549]), pvalue=array([0.00692516]))"
      ]
     },
     "execution_count": 88,
     "metadata": {},
     "output_type": "execute_result"
    }
   ],
   "source": [
    "# Post-hoc t-test: State 2 vs. State 3\n",
    "stats.ttest_ind(pd.DataFrame(seg_12_all).dropna(),pd.DataFrame(seg_13_all).dropna())"
   ]
  },
  {
   "cell_type": "code",
   "execution_count": 89,
   "metadata": {},
   "outputs": [
    {
     "data": {
      "text/plain": [
       "Ttest_indResult(statistic=array([6.42818378]), pvalue=array([1.17401674e-08]))"
      ]
     },
     "execution_count": 89,
     "metadata": {},
     "output_type": "execute_result"
    }
   ],
   "source": [
    "# Post-hoc t-test: State 2 vs. State 3\n",
    "stats.ttest_ind(pd.DataFrame(seg_11_all).dropna(),pd.DataFrame(seg_13_all).dropna())"
   ]
  },
  {
   "cell_type": "code",
   "execution_count": 90,
   "metadata": {},
   "outputs": [
    {
     "data": {
      "text/plain": [
       "Ttest_indResult(statistic=array([3.53211101]), pvalue=array([0.00069173]))"
      ]
     },
     "execution_count": 90,
     "metadata": {},
     "output_type": "execute_result"
    }
   ],
   "source": [
    "# Post-hoc t-test: State 1 vs. State 2\n",
    "stats.ttest_ind(pd.DataFrame(seg_11_all).dropna(),pd.DataFrame(seg_12_all).dropna())"
   ]
  },
  {
   "cell_type": "code",
   "execution_count": 91,
   "metadata": {},
   "outputs": [
    {
     "data": {
      "text/plain": [
       "(array([ True,  True,  True]),\n",
       " array([6.92516000e-03, 3.52205022e-08, 1.03759500e-03]),\n",
       " 0.016952427508441503,\n",
       " 0.016666666666666666)"
      ]
     },
     "execution_count": 91,
     "metadata": {},
     "output_type": "execute_result"
    }
   ],
   "source": [
    "# FDR-correction for multiple comparisons: All of the post-hoc tests stay significant\n",
    "statsmodels.stats.multitest.multipletests([0.00692516,1.17401674e-08,0.00069173], alpha=0.05, method='fdr_bh', is_sorted=False, returnsorted=False)\n"
   ]
  },
  {
   "cell_type": "code",
   "execution_count": 24,
   "metadata": {},
   "outputs": [],
   "source": [
    "# Statistical comparison of system segregation between subjects (each represented by 159 time windows: therefore 159 windows*48 subjects = 7632 )\n",
    "a = np.ravel(dfnc)\n",
    "a = np.reshape(a,(7632,78))"
   ]
  },
  {
   "cell_type": "code",
   "execution_count": 25,
   "metadata": {},
   "outputs": [],
   "source": [
    "seg_11_all = []\n",
    "\n",
    "for n in range(7632):\n",
    "    dfnc_1_group_med = pd.DataFrame(return_dfnc_from_vector(a[n]))\n",
    "\n",
    "    dfnc_1_group_med_SM = dfnc_1_group_med.loc[0:7,0:7]*(dfnc_1_group_med.loc[0:7,0:7]>0)\n",
    "    dfnc_1_group_med_SM = np.array(dfnc_1_group_med_SM)[np.triu_indices(8,1)]\n",
    "    dfnc_1_group_med_SC = dfnc_1_group_med.loc[8:10,8:10]*(dfnc_1_group_med.loc[8:10,8:10]>0)\n",
    "    dfnc_1_group_med_SC = np.array(dfnc_1_group_med_SC)[np.triu_indices(3,1)]\n",
    "    dfnc_1_group_med_CB = dfnc_1_group_med.loc[11:12,11:12]*(dfnc_1_group_med.loc[11:12,11:12]>0)\n",
    "    dfnc_1_group_med_CB = np.array(dfnc_1_group_med_CB)[np.triu_indices(2,1)]\n",
    "    within_1 = np.concatenate([dfnc_1_group_med_SM, dfnc_1_group_med_SC, dfnc_1_group_med_CB])\n",
    "    within_1 = np.sum(within_1)/(len(dfnc_1_group_med_SM) +len(dfnc_1_group_med_SC)+len(dfnc_1_group_med_CB)) \n",
    "    dfnc_1_group_med_SM_SC_CB = np.array(dfnc_1_group_med.loc[8:,0:7]*(dfnc_1_group_med.loc[8:,0:7]>0))\n",
    "    dfnc_1_group_med_SC_CB = np.array(dfnc_1_group_med.loc[8:10,11:]*(dfnc_1_group_med.loc[8:10,11:]>0))\n",
    "    between_1 = np.concatenate([np.ravel(dfnc_1_group_med_SM_SC_CB),np.ravel(dfnc_1_group_med_SC_CB)])\n",
    "    between_1 = np.sum(between_1)/(len(np.ravel(dfnc_1_group_med_SM_SC_CB)) +len(np.ravel(dfnc_1_group_med_SC_CB))) \n",
    "    seg_11 = (within_1 - between_1) / within_1\n",
    "    seg_11_all.append(seg_11)\n"
   ]
  },
  {
   "cell_type": "code",
   "execution_count": 60,
   "metadata": {},
   "outputs": [],
   "source": [
    "# Healthy controls: System segregation\n",
    "seg_11_control = []\n",
    "for sub in range(0,17):\n",
    "    sub_raveled = sub*159\n",
    "    for sub_rav in range(sub_raveled, (sub_raveled+159)):\n",
    "        seg_11_control.append(pd.DataFrame(seg_11_all).loc[sub_rav][0])"
   ]
  },
  {
   "cell_type": "code",
   "execution_count": 65,
   "metadata": {},
   "outputs": [
    {
     "data": {
      "text/plain": [
       "0    0.833723\n",
       "dtype: float64"
      ]
     },
     "execution_count": 65,
     "metadata": {},
     "output_type": "execute_result"
    }
   ],
   "source": [
    "pd.DataFrame(seg_11_control).mean()"
   ]
  },
  {
   "cell_type": "code",
   "execution_count": 47,
   "metadata": {},
   "outputs": [],
   "source": [
    "# Moderately affected patients: System segregation\n",
    "seg_11_better = []\n",
    "for sub in better:\n",
    "    sub_raveled = sub*159\n",
    "    for sub_rav in range(sub_raveled, (sub_raveled+159)):\n",
    "        seg_11_better.append(pd.DataFrame(seg_11_all).loc[sub_rav][0])"
   ]
  },
  {
   "cell_type": "code",
   "execution_count": 50,
   "metadata": {},
   "outputs": [
    {
     "data": {
      "text/plain": [
       "0    0.809731\n",
       "dtype: float64"
      ]
     },
     "execution_count": 50,
     "metadata": {},
     "output_type": "execute_result"
    }
   ],
   "source": [
    "pd.DataFrame(seg_11_better).mean()"
   ]
  },
  {
   "cell_type": "code",
   "execution_count": 51,
   "metadata": {},
   "outputs": [],
   "source": [
    "# Severely affected patients: System segregation\n",
    "seg_11_worse = []\n",
    "for sub in worse:\n",
    "    sub_raveled = sub*159\n",
    "    for sub_rav in range(sub_raveled, (sub_raveled+159)):\n",
    "        seg_11_worse.append(pd.DataFrame(seg_11_all).loc[sub_rav][0])"
   ]
  },
  {
   "cell_type": "code",
   "execution_count": 52,
   "metadata": {},
   "outputs": [
    {
     "data": {
      "text/plain": [
       "0    0.856089\n",
       "dtype: float64"
      ]
     },
     "execution_count": 52,
     "metadata": {},
     "output_type": "execute_result"
    }
   ],
   "source": [
    "pd.DataFrame(seg_11_worse).mean()"
   ]
  },
  {
   "cell_type": "code",
   "execution_count": 61,
   "metadata": {},
   "outputs": [
    {
     "data": {
      "text/plain": [
       "F_onewayResult(statistic=61.89625606353308, pvalue=2.1605358218569088e-27)"
      ]
     },
     "execution_count": 61,
     "metadata": {},
     "output_type": "execute_result"
    }
   ],
   "source": [
    "# One-way ANOVA for overall group-effect\n",
    "stats.f_oneway(np.array(seg_11_control), np.array(seg_11_better), np.array(seg_11_worse))"
   ]
  },
  {
   "cell_type": "code",
   "execution_count": 63,
   "metadata": {},
   "outputs": [
    {
     "data": {
      "text/plain": [
       "Ttest_indResult(statistic=6.372654803307531, pvalue=2.0072583130281055e-10)"
      ]
     },
     "execution_count": 63,
     "metadata": {},
     "output_type": "execute_result"
    }
   ],
   "source": [
    "# Post-hoc t-test: Controls vs moderately affected patients \n",
    "stats.ttest_ind(np.array(seg_11_control),np.array(seg_11_better))"
   ]
  },
  {
   "cell_type": "code",
   "execution_count": 64,
   "metadata": {},
   "outputs": [
    {
     "data": {
      "text/plain": [
       "Ttest_indResult(statistic=-5.342893835621885, pvalue=9.573273286120495e-08)"
      ]
     },
     "execution_count": 64,
     "metadata": {},
     "output_type": "execute_result"
    }
   ],
   "source": [
    "# Post-hoc t-test: Controls vs severely affected patients \n",
    "stats.ttest_ind(np.array(seg_11_control),np.array(seg_11_worse))"
   ]
  },
  {
   "cell_type": "code",
   "execution_count": 66,
   "metadata": {},
   "outputs": [
    {
     "data": {
      "text/plain": [
       "Ttest_indResult(statistic=-10.51713165975335, pvalue=1.3426766362264276e-25)"
      ]
     },
     "execution_count": 66,
     "metadata": {},
     "output_type": "execute_result"
    }
   ],
   "source": [
    "# Post-hoc t-test: Moderately vs severely affected patients \n",
    "stats.ttest_ind(np.array(seg_11_better),np.array(seg_11_worse))"
   ]
  },
  {
   "cell_type": "code",
   "execution_count": 92,
   "metadata": {},
   "outputs": [
    {
     "data": {
      "text/plain": [
       "(array([ True,  True,  True]),\n",
       " array([3.01088747e-10, 9.57327329e-08, 4.02802991e-25]),\n",
       " 0.016952427508441503,\n",
       " 0.016666666666666666)"
      ]
     },
     "execution_count": 92,
     "metadata": {},
     "output_type": "execute_result"
    }
   ],
   "source": [
    "# FDR-correction for multiple comparisons: All of the post-hoc tests stay significant\n",
    "statsmodels.stats.multitest.multipletests([2.0072583130281055e-10,9.573273286120495e-08,1.3426766362264276e-25], alpha=0.05, method='fdr_bh', is_sorted=False, returnsorted=False)\n"
   ]
  },
  {
   "cell_type": "code",
   "execution_count": null,
   "metadata": {},
   "outputs": [],
   "source": []
  }
 ],
 "metadata": {
  "kernelspec": {
   "display_name": "Python 3",
   "language": "python",
   "name": "python3"
  },
  "language_info": {
   "codemirror_mode": {
    "name": "ipython",
    "version": 3
   },
   "file_extension": ".py",
   "mimetype": "text/x-python",
   "name": "python",
   "nbconvert_exporter": "python",
   "pygments_lexer": "ipython3",
   "version": "3.7.1"
  }
 },
 "nbformat": 4,
 "nbformat_minor": 2
}
