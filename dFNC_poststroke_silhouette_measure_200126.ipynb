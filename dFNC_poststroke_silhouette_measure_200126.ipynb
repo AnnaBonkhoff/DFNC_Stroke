{
 "cells": [
  {
   "cell_type": "code",
   "execution_count": 1,
   "metadata": {},
   "outputs": [],
   "source": [
    "import numpy as np\n",
    "import pandas as pd\n",
    "from scipy.io import loadmat\n",
    "import glob\n",
    "import os\n",
    "import sys\n",
    "import matplotlib.pyplot as plt\n",
    "import seaborn as sns\n",
    "sns.set(style=\"white\")\n",
    "from scipy import stats\n",
    "import statsmodels.api as sm\n",
    "from statsmodels.formula.api import ols\n",
    "import statsmodels.stats.multicomp\n",
    "import pyreadstat\n",
    "from scipy.spatial import distance\n",
    "from sklearn import metrics\n",
    "from sklearn.metrics import pairwise_distances\n",
    "from sklearn.cluster import KMeans\n",
    "pd.set_option('display.max_columns', 200)\n",
    "pd.set_option('display.max_rows', 200)\n"
   ]
  },
  {
   "cell_type": "code",
   "execution_count": 2,
   "metadata": {},
   "outputs": [],
   "source": [
    "n_subjects = 48\n",
    "n_controls = 17\n",
    "n_controls_1 = 16\n",
    "n_patients = 31\n",
    "n_windows = 159\n",
    "n_corr = 78"
   ]
  },
  {
   "cell_type": "code",
   "execution_count": 5,
   "metadata": {},
   "outputs": [],
   "source": [
    "if sys.platform == 'darwin': # OS X\n",
    "    subject_names = glob.glob('/Users/anna/Documents/LV_Stroke_new/Data/DFNC_LV_no15_0307/WithSM_dfnc_sub*',)\n",
    "else: # all other operating systems\n",
    "    print('Please enter the windows system path at this line. Thanks!!!')\n",
    "subject_names = sorted(subject_names)"
   ]
  },
  {
   "cell_type": "code",
   "execution_count": 6,
   "metadata": {},
   "outputs": [],
   "source": [
    "def calc_num_components(a):\n",
    "    num_pairs = len(a)\n",
    "    num_components = int(np.ceil(np.sqrt(2 * num_pairs - 1)))\n",
    "    if num_components * (num_components - 1) == 2 * num_pairs:\n",
    "        return num_components\n",
    "    else:\n",
    "        return 0\n",
    "\n",
    "\n",
    "def return_dfnc_from_vector(a):\n",
    "    '''This Function returns a dfnc matrix given a vector\n",
    "        a : the vector of correlation pairs\n",
    "    '''\n",
    "    n = calc_num_components(a)\n",
    "    out = np.zeros((n, n))\n",
    "\n",
    "    if not n:\n",
    "        return out\n",
    "    \n",
    "    l_indices = np.tril_indices(n, -1)\n",
    "    u_indices = np.triu_indices(n, 1)\n",
    "\n",
    "    out[u_indices] = a\n",
    "    out[l_indices] = out.T[l_indices]\n",
    "    \n",
    "    return out"
   ]
  },
  {
   "cell_type": "code",
   "execution_count": 7,
   "metadata": {},
   "outputs": [],
   "source": [
    "# loading individual dncs\n",
    "dfnc = np.zeros((n_subjects,n_windows,n_corr))\n",
    "for n in range(0,n_subjects,1):\n",
    "    \n",
    "    dfnc[n] = loadmat(subject_names[n][-40:])['FNCdyn']"
   ]
  },
  {
   "cell_type": "code",
   "execution_count": 24,
   "metadata": {},
   "outputs": [],
   "source": [
    "# Raveling dfnc matrices, so to have a 1D-vector of dynamic connectivities per sliding window (i.e. 7632 windows (159 windows per 48 subjects) and 78 connectivity pairs)\n",
    "a = np.ravel(dfnc)\n",
    "a = np.reshape(a,(7632,78))"
   ]
  },
  {
   "cell_type": "code",
   "execution_count": 25,
   "metadata": {},
   "outputs": [
    {
     "data": {
      "text/plain": [
       "0.12059078674087682"
      ]
     },
     "execution_count": 25,
     "metadata": {},
     "output_type": "execute_result"
    }
   ],
   "source": [
    "# Silhouette measure for k=2\n",
    "kmeans_model = KMeans(n_clusters=2, random_state=1).fit(a)\n",
    "labels = kmeans_model.labels_\n",
    "two = metrics.silhouette_score(a, labels, metric='euclidean')\n",
    "two"
   ]
  },
  {
   "cell_type": "code",
   "execution_count": 26,
   "metadata": {},
   "outputs": [
    {
     "data": {
      "text/plain": [
       "0.13384235681338216"
      ]
     },
     "execution_count": 26,
     "metadata": {},
     "output_type": "execute_result"
    }
   ],
   "source": [
    "# Silhouette measure for k=3, the lowest value\n",
    "kmeans_model = KMeans(n_clusters=3, random_state=1).fit(a)\n",
    "labels = kmeans_model.labels_\n",
    "three = metrics.silhouette_score(a, labels, metric='euclidean')\n",
    "three"
   ]
  },
  {
   "cell_type": "code",
   "execution_count": 28,
   "metadata": {},
   "outputs": [
    {
     "data": {
      "text/plain": [
       "0.11822585729143308"
      ]
     },
     "execution_count": 28,
     "metadata": {},
     "output_type": "execute_result"
    }
   ],
   "source": [
    "# Silhouette measure for k=4\n",
    "kmeans_model = KMeans(n_clusters=4, random_state=1).fit(a)\n",
    "labels = kmeans_model.labels_\n",
    "four = metrics.silhouette_score(a, labels, metric='euclidean')\n",
    "four"
   ]
  },
  {
   "cell_type": "code",
   "execution_count": 29,
   "metadata": {},
   "outputs": [
    {
     "data": {
      "text/plain": [
       "0.13069463804137252"
      ]
     },
     "execution_count": 29,
     "metadata": {},
     "output_type": "execute_result"
    }
   ],
   "source": [
    "# Silhouette measure for k=5\n",
    "kmeans_model = KMeans(n_clusters=5, random_state=1).fit(a)\n",
    "labels = kmeans_model.labels_\n",
    "five = metrics.silhouette_score(a, labels, metric='euclidean')\n",
    "five"
   ]
  },
  {
   "cell_type": "code",
   "execution_count": 31,
   "metadata": {},
   "outputs": [
    {
     "data": {
      "text/plain": [
       "0.12327843553477007"
      ]
     },
     "execution_count": 31,
     "metadata": {},
     "output_type": "execute_result"
    }
   ],
   "source": [
    "# Silhouette measure for k=6\n",
    "kmeans_model = KMeans(n_clusters=6, random_state=1).fit(a)\n",
    "labels = kmeans_model.labels_\n",
    "six = metrics.silhouette_score(a, labels, metric='euclidean')\n",
    "six"
   ]
  },
  {
   "cell_type": "code",
   "execution_count": 32,
   "metadata": {},
   "outputs": [
    {
     "data": {
      "text/plain": [
       "0.1158404288242489"
      ]
     },
     "execution_count": 32,
     "metadata": {},
     "output_type": "execute_result"
    }
   ],
   "source": [
    "kmeans_model = KMeans(n_clusters=7, random_state=1).fit(a)\n",
    "labels = kmeans_model.labels_\n",
    "seven = metrics.silhouette_score(a, labels, metric='euclidean')\n",
    "seven"
   ]
  },
  {
   "cell_type": "code",
   "execution_count": 33,
   "metadata": {},
   "outputs": [
    {
     "data": {
      "text/plain": [
       "0.1004664859607591"
      ]
     },
     "execution_count": 33,
     "metadata": {},
     "output_type": "execute_result"
    }
   ],
   "source": [
    "# Silhouette measure for k=8\n",
    "kmeans_model = KMeans(n_clusters=8, random_state=1).fit(a)\n",
    "labels = kmeans_model.labels_\n",
    "eight = metrics.silhouette_score(a, labels, metric='euclidean')\n",
    "eight"
   ]
  },
  {
   "cell_type": "code",
   "execution_count": 39,
   "metadata": {},
   "outputs": [
    {
     "data": {
      "image/png": "[encoded data removed]",
      "text/plain": [
       "<Figure size 720x720 with 1 Axes>"
      ]
     },
     "metadata": {},
     "output_type": "display_data"
    }
   ],
   "source": [
    "plt.figure(figsize=(10, 10))\n",
    "plt.plot([2,3,4,5,6,7,8],[two, three, four, five, six, seven, eight])\n",
    "plt.show()"
   ]
  },
  {
   "cell_type": "code",
   "execution_count": null,
   "metadata": {},
   "outputs": [],
   "source": []
  }
 ],
 "metadata": {
  "kernelspec": {
   "display_name": "Python 3",
   "language": "python",
   "name": "python3"
  },
  "language_info": {
   "codemirror_mode": {
    "name": "ipython",
    "version": 3
   },
   "file_extension": ".py",
   "mimetype": "text/x-python",
   "name": "python",
   "nbconvert_exporter": "python",
   "pygments_lexer": "ipython3",
   "version": "3.7.1"
  }
 },
 "nbformat": 4,
 "nbformat_minor": 2
}
