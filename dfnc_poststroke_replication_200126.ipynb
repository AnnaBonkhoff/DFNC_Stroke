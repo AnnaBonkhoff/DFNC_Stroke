{
 "cells": [
  {
   "cell_type": "markdown",
   "metadata": {},
   "source": [
    "This notebook demonstrates the replication analysis for 24 stroke patients with motor symptoms (moderate symptoms: 19, severe symptoms: 5) compared to a controls group comprising 30 stroke patients without motor symptoms.\n",
    "\n",
    "As in the main analysis, we here find significantly increased dwell times in case of moderate symptoms.\n",
    "Furthermore, we substantiate a reduced level of system segregation in case of moderate symptoms compared to controls and patients with severe symptoms. Lastly, severely affected patients have a significantly increased level of system segregation compared to both other groups.\n",
    "Altogether, we therefore replicate main findings of the original study.\n",
    "\n",
    "Please note that State 1 in this notebook represents the weakly connected State 2 of the main analysis and State 2 the densely connected State 1 (this change is due to the altered ordering of states in the k-means clustering step. Please note that the order of states was altered in supplementary figure 4 to match the order of states in the main analysis)"
   ]
  },
  {
   "cell_type": "code",
   "execution_count": 1,
   "metadata": {},
   "outputs": [],
   "source": [
    "import numpy as np\n",
    "import pandas as pd\n",
    "from scipy.io import loadmat\n",
    "import glob\n",
    "import os\n",
    "import sys\n",
    "import matplotlib.pyplot as plt\n",
    "import seaborn as sns\n",
    "from scipy import stats\n",
    "from sklearn.cluster import KMeans\n",
    "from pingouin import pairwise_corr\n",
    "import statsmodels.stats.multicomp\n",
    "from sklearn.linear_model import LogisticRegression\n",
    "from sklearn.metrics import roc_auc_score\n",
    "from sklearn.model_selection import StratifiedKFold\n",
    "from sklearn.ensemble import RandomForestClassifier\n",
    "from sklearn.ensemble import GradientBoostingClassifier\n",
    "import statsmodels.formula.api as sm\n",
    "import statsmodels.api as sm\n",
    "from matplotlib import cm\n",
    "import math\n",
    "\n",
    "from sklearn import metrics\n",
    "from sklearn.metrics import pairwise_distances\n",
    "from sklearn.cluster import KMeans\n",
    "\n",
    "from sklearn.metrics import roc_curve, auc\n",
    "from scipy import interp\n",
    "pd.set_option('display.max_columns', 200)\n",
    "pd.set_option('display.max_rows', 200)"
   ]
  },
  {
   "cell_type": "code",
   "execution_count": 2,
   "metadata": {},
   "outputs": [],
   "source": [
    "def calc_num_components(a):\n",
    "    num_pairs = len(a)\n",
    "    num_components = int(np.ceil(np.sqrt(2 * num_pairs - 1)))\n",
    "    if num_components * (num_components - 1) == 2 * num_pairs:\n",
    "        return num_components\n",
    "    else:\n",
    "        return 0\n",
    "\n",
    "\n",
    "def return_dfnc_from_vector(a):\n",
    "    '''This Function returns a dfnc matrix given a vector\n",
    "        a : the vector of correlation pairs\n",
    "    '''\n",
    "    n = calc_num_components(a)\n",
    "    out = np.zeros((n, n))\n",
    "\n",
    "    if not n:\n",
    "        return out\n",
    "    \n",
    "    l_indices = np.tril_indices(n, -1)\n",
    "    u_indices = np.triu_indices(n, 1)\n",
    "\n",
    "    out[u_indices] = a\n",
    "    out[l_indices] = out.T[l_indices]\n",
    "    \n",
    "    return out"
   ]
  },
  {
   "cell_type": "code",
   "execution_count": 3,
   "metadata": {},
   "outputs": [],
   "source": [
    "n_subjects = 54\n",
    "n_windows = 159\n",
    "n_corr = 78"
   ]
  },
  {
   "cell_type": "code",
   "execution_count": 4,
   "metadata": {},
   "outputs": [],
   "source": [
    "Stroke_final = pd.read_csv(\"/Users/anna/Documents/AR_Stroke_new/Behavior/AR_Behavior_revision.csv\", index_col=0)"
   ]
  },
  {
   "cell_type": "code",
   "execution_count": 5,
   "metadata": {},
   "outputs": [],
   "source": [
    "# Load behavioural data\n",
    "Stroke_final = pd.read_csv(\"/Users/anna/Documents/AR_Stroke_new/Behavior/AR_Behavior_revision.csv\", index_col=0)"
   ]
  },
  {
   "cell_type": "code",
   "execution_count": 6,
   "metadata": {},
   "outputs": [],
   "source": [
    "# MI Upper limb\n",
    "mild = Stroke_final[Stroke_final[\"MI\"]>32].index # these patients presented without any motor deficits (MI=33) and represent the control group\n",
    "severe = Stroke_final[Stroke_final[\"MI\"]<22].index\n",
    "moderate = Stroke_final[Stroke_final[\"MI\"]<33]\n",
    "moderate = moderate[moderate[\"MI\"]>21].index"
   ]
  },
  {
   "cell_type": "code",
   "execution_count": 7,
   "metadata": {},
   "outputs": [],
   "source": [
    "subgroups = np.zeros(54)\n",
    "subgroups[moderate] = 1\n",
    "subgroups[severe] = 2"
   ]
  },
  {
   "cell_type": "code",
   "execution_count": 8,
   "metadata": {},
   "outputs": [],
   "source": [
    "subject_names = glob.glob('/Users/anna/Documents/AR_Stroke_new/Data/DFNC_SM_0509/WithSM_dfnc_sub*',)\n",
    "subject_names = sorted(subject_names)"
   ]
  },
  {
   "cell_type": "code",
   "execution_count": 9,
   "metadata": {},
   "outputs": [],
   "source": [
    "# loading individual fncs\n",
    "dfnc = np.zeros((n_subjects,n_windows,n_corr))\n",
    "for n in range(0,n_subjects,1):\n",
    "    dfnc[n] = loadmat(subject_names[n][-40:])['FNCdyn']"
   ]
  },
  {
   "cell_type": "code",
   "execution_count": 10,
   "metadata": {},
   "outputs": [],
   "source": [
    "# loading state information \n",
    "x = loadmat('states_stroke.mat')[\"a\"]\n",
    "for n in range(0,np.shape(x)[0],1):\n",
    "    if n==0:\n",
    "        states = pd.DataFrame(x[n][0])\n",
    "    else:\n",
    "        states[n] = pd.DataFrame(x[n][0])\n",
    "states = states.transpose()"
   ]
  },
  {
   "cell_type": "code",
   "execution_count": 11,
   "metadata": {},
   "outputs": [],
   "source": [
    "fraction = loadmat('fraction_time.mat')[\"frac\"]\n",
    "fraction = pd.DataFrame(fraction)\n",
    "fraction.columns = [\"State_1\", \"State_2\", \"State_3\"]"
   ]
  },
  {
   "cell_type": "code",
   "execution_count": 12,
   "metadata": {},
   "outputs": [
    {
     "name": "stdout",
     "output_type": "stream",
     "text": [
      "Fraction time\n",
      "State_1\n",
      "No deficit: 0.434172\n",
      "Moderate Deficit: 0.525654\n",
      "0.305045\n",
      "State_2\n",
      "No deficit: 0.222851\n",
      "Moderate Deficit: 0.224429\n",
      "0.983896\n",
      "State_3\n",
      "No deficit: 0.342977\n",
      "Moderate Deficit: 0.249917\n",
      "0.195401\n"
     ]
    }
   ],
   "source": [
    "# Comparing Fraction times for patients without motor symptoms (controls) and moderate symptoms: No significant differences\n",
    "n_dfnc = [\"State_1\", \"State_2\", \"State_3\",]\n",
    "no = [0,1,2]\n",
    "p_all = np.zeros(3)\n",
    "print(\"Fraction time\")\n",
    "for n, p in zip(n_dfnc, no):\n",
    "    rvs2= fraction[n].loc[mild]\n",
    "    rvs1 = fraction[n].loc[moderate]\n",
    "    p_all[p] = stats.ttest_ind(rvs1,rvs2)[1] \n",
    "    print(\"%s\" % n)\n",
    "    print(\"No deficit: %f\" %(rvs2.mean()))\n",
    "    print(\"Moderate Deficit: %f\" %(rvs1.mean()))\n",
    "    print(\"%f\" %stats.ttest_ind(rvs1,rvs2)[1])"
   ]
  },
  {
   "cell_type": "code",
   "execution_count": 13,
   "metadata": {},
   "outputs": [
    {
     "name": "stdout",
     "output_type": "stream",
     "text": [
      "Fraction time\n",
      "State_1\n",
      "No deficit: 0.434172\n",
      "Severe Deficit: 0.527044\n",
      "0.508866\n",
      "State_2\n",
      "No deficit: 0.222851\n",
      "Severe Deficit: 0.293082\n",
      "0.545713\n",
      "State_3\n",
      "No deficit: 0.342977\n",
      "Severe Deficit: 0.179874\n",
      "0.152576\n"
     ]
    }
   ],
   "source": [
    "# Comparing Fraction times for patients without motor symptoms (controls) and severe symptoms: No significant differences\n",
    "n_dfnc = [\"State_1\", \"State_2\", \"State_3\"]\n",
    "no = [0,1,2]\n",
    "p_all = np.zeros(3)\n",
    "print(\"Fraction time\")\n",
    "for n, p in zip(n_dfnc, no):\n",
    "    rvs2 = fraction[n].loc[mild]\n",
    "    rvs1 = fraction[n].loc[severe]\n",
    "    p_all[p] = stats.ttest_ind(rvs1,rvs2)[1] \n",
    "    print(\"%s\" % n)\n",
    "    print(\"No deficit: %f\" %(rvs2.mean()))\n",
    "    print(\"Severe Deficit: %f\" %(rvs1.mean()))\n",
    "    print(\"%f\" %stats.ttest_ind(rvs1,rvs2)[1])"
   ]
  },
  {
   "cell_type": "code",
   "execution_count": 14,
   "metadata": {},
   "outputs": [
    {
     "name": "stdout",
     "output_type": "stream",
     "text": [
      "Fraction time\n",
      "State_1\n",
      "Moderate deficit: 0.525654\n",
      "Severe Deficit: 0.527044\n",
      "0.994025\n",
      "State_2\n",
      "Moderate deficit: 0.224429\n",
      "Severe Deficit: 0.293082\n",
      "0.688374\n",
      "State_3\n",
      "Moderate deficit: 0.249917\n",
      "Severe Deficit: 0.179874\n",
      "0.604990\n"
     ]
    }
   ],
   "source": [
    "# Comparing Fraction times for patients with moderate and severesymptoms: No significant differences\n",
    "\n",
    "n_dfnc = [\"State_1\", \"State_2\", \"State_3\"]\n",
    "no = [0,1,2]\n",
    "p_all = np.zeros(3)\n",
    "print(\"Fraction time\")\n",
    "for n, p in zip(n_dfnc, no):\n",
    "    rvs2 = fraction[n].loc[moderate]\n",
    "    rvs1 = fraction[n].loc[severe]\n",
    "    p_all[p] = stats.ttest_ind(rvs1,rvs2)[1] \n",
    "    print(\"%s\" % n)\n",
    "    print(\"Moderate deficit: %f\" %(rvs2.mean()))\n",
    "    print(\"Severe Deficit: %f\" %(rvs1.mean()))\n",
    "    print(\"%f\" %stats.ttest_ind(rvs1,rvs2)[1])"
   ]
  },
  {
   "cell_type": "code",
   "execution_count": 15,
   "metadata": {},
   "outputs": [
    {
     "name": "stderr",
     "output_type": "stream",
     "text": [
      "/Users/anna/anaconda3/lib/python3.7/site-packages/scipy/stats/stats.py:1713: FutureWarning: Using a non-tuple sequence for multidimensional indexing is deprecated; use `arr[tuple(seq)]` instead of `arr[seq]`. In the future this will be interpreted as an array index, `arr[np.array(seq)]`, which will result either in an error or a different result.\n",
      "  return np.add.reduce(sorted[indexer] * weights, axis=axis) / sumval\n"
     ]
    },
    {
     "data": {
      "text/plain": [
       "[]"
      ]
     },
     "execution_count": 15,
     "metadata": {},
     "output_type": "execute_result"
    },
    {
     "data": {
      "image/png": "[encoded data removed]",
      "text/plain": [
       "<Figure size 2160x720 with 1 Axes>"
      ]
     },
     "metadata": {
      "needs_background": "light"
     },
     "output_type": "display_data"
    }
   ],
   "source": [
    "fraction_fig = pd.concat([fraction[\"State_1\"], fraction[\"State_2\"], fraction[\"State_3\"]], axis=0)\n",
    "fraction_fig = pd.DataFrame(fraction_fig)\n",
    "fraction_fig.index = range(0,n_subjects*3)\n",
    "fraction_fig = fraction_fig.rename(index=str, columns={0: \"Fraction\"})\n",
    "fraction_fig[\"State\"] = np.concatenate([np.ones(n_subjects), np.full(n_subjects,2),np.full(n_subjects,3)])\n",
    "fraction_fig[\"Patient_status\"] = np.concatenate([subgroups, subgroups, subgroups])\n",
    "plt.figure(figsize=(30, 10))\n",
    "#sns.set(style=\"ticks\", palette=\"pastel\")   \n",
    "sns.set_style('ticks', {'axes.edgecolor': '0',  \n",
    "                        'xtick.color': '0',\n",
    "                        'ytick.color': '0'})\n",
    "\n",
    "sns.set_context(\"paper\", rc={\"font.size\":30,\"axes.titlesize\":30,\"axes.labelsize\":30}) \n",
    "\n",
    "#sns.stripplot(x=\"State\", y=\"Fraction\", hue=\"Patient_status\",\n",
    "#data=fraction_fig, jitter=True,\n",
    "#palette=[\"skyblue\", \"dodgerblue\", \"blue\"], split=True,linewidth=1,edgecolor='white')\n",
    "#palette=[\"floralwhite\", \"floralwhite\", \"floralwhite\"], split=True,linewidth=1,size=8,edgecolor='grey')\n",
    "\n",
    "# Draw a nested boxplot to show bills by day and time\n",
    "sns.barplot(x=\"State\", y=\"Fraction\",\n",
    "            hue=\"Patient_status\",palette=[\"silver\", \"salmon\", \"darkred\"],\n",
    "            #hue=\"Patient_status\",kind=\"bar\",  palette=[\"silver\", \"salmon\", \"darkred\"],\n",
    "            data=fraction_fig)\n",
    "\n",
    "\n",
    "\n",
    "sns.despine(offset=10, trim=True)\n",
    "plt.xticks(fontsize=25)\n",
    "plt.yticks(fontsize=25)\n",
    "\n",
    "plt.legend(bbox_to_anchor=(1.05, 1), loc=2, borderaxespad=0.)\n",
    "plt.plot()"
   ]
  },
  {
   "cell_type": "code",
   "execution_count": 16,
   "metadata": {},
   "outputs": [],
   "source": [
    "dwell = loadmat('dwell_time.mat')[\"dwell\"]\n",
    "dwell = pd.DataFrame(dwell)\n",
    "dwell.columns = [\"State_1\", \"State_2\", \"State_3\"]"
   ]
  },
  {
   "cell_type": "code",
   "execution_count": 17,
   "metadata": {},
   "outputs": [
    {
     "name": "stdout",
     "output_type": "stream",
     "text": [
      "Dwell time per state\n",
      "State_1\n",
      "Moderate deficit: 46.607018\n",
      "No Deficit: 23.470556\n",
      "0.029015\n",
      "State_2\n",
      "Moderate deficit: 18.416667\n",
      "No Deficit: 12.216667\n",
      "0.392665\n",
      "State_3\n",
      "Moderate deficit: 16.187719\n",
      "No Deficit: 17.843889\n",
      "0.668600\n"
     ]
    }
   ],
   "source": [
    "# Comparing Fraction times for patients without motor symptoms (controls) and moderate symptoms: State 1, \n",
    "# the weakly connected State 2 of the original dataset,\n",
    "# shows a significantly increased dwell time in case of moderate symptoms \n",
    "no = [0,1,2]\n",
    "p_all = np.zeros(3)\n",
    "print(\"Dwell time per state\")\n",
    "for n, p in zip(n_dfnc, no):\n",
    "    rvs1 = dwell[n].loc[mild]\n",
    "    rvs2 = dwell[n].loc[moderate]\n",
    "    p_all[p] = stats.ttest_ind(rvs1,rvs2)[1]\n",
    "    print(\"%s\" % n)\n",
    "    print(\"Moderate deficit: %f\" %(rvs2.mean()))\n",
    "    print(\"No Deficit: %f\" %(rvs1.mean()))\n",
    "    print(\"%f\" %stats.ttest_ind(rvs1,rvs2)[1])"
   ]
  },
  {
   "cell_type": "code",
   "execution_count": 19,
   "metadata": {},
   "outputs": [
    {
     "name": "stdout",
     "output_type": "stream",
     "text": [
      "Dwell time per state\n",
      "State_1\n",
      "Severe deficit: 48.300000\n",
      "No Deficit: 23.470556\n",
      "0.061623\n",
      "State_2\n",
      "Severe deficit: 17.800000\n",
      "No Deficit: 12.216667\n",
      "0.277886\n",
      "State_3\n",
      "Severe deficit: 8.200000\n",
      "No Deficit: 17.843889\n",
      "0.052664\n"
     ]
    }
   ],
   "source": [
    "# Comparing Fraction times for patients without motor symptoms (controls) and severe symptoms: No significant differences\n",
    "n_dfnc = [\"State_1\", \"State_2\", \"State_3\",]\n",
    "no = [0,1,2]\n",
    "p_all = np.zeros(3)\n",
    "print(\"Dwell time per state\")\n",
    "for n, p in zip(n_dfnc, no):\n",
    "    rvs1 = dwell[n].loc[mild]\n",
    "    rvs2 = dwell[n].loc[severe]\n",
    "    p_all[p] = stats.ttest_ind(rvs1,rvs2)[1]\n",
    "    print(\"%s\" % n)\n",
    "    print(\"Severe deficit: %f\" %(rvs2.mean()))\n",
    "    print(\"No Deficit: %f\" %(rvs1.mean()))\n",
    "    print(\"%f\" %stats.ttest_ind(rvs1,rvs2)[1])"
   ]
  },
  {
   "cell_type": "code",
   "execution_count": 20,
   "metadata": {},
   "outputs": [
    {
     "name": "stdout",
     "output_type": "stream",
     "text": [
      "Dwell time per state\n",
      "State_1\n",
      "Moderate deficit: 46.607018\n",
      "Severe Deficit: 48.300000\n",
      "0.951662\n",
      "State_2\n",
      "Moderate deficit: 18.416667\n",
      "Severe Deficit: 17.800000\n",
      "0.972435\n",
      "State_3\n",
      "Moderate deficit: 16.187719\n",
      "Severe Deficit: 8.200000\n",
      "0.334026\n"
     ]
    }
   ],
   "source": [
    "# Comparing Fraction times for patients with moderate and severe symptoms: No significant differences\n",
    "n_dfnc = [\"State_1\", \"State_2\", \"State_3\"]\n",
    "no = [0,1,2,3]\n",
    "p_all = np.zeros(4)\n",
    "print(\"Dwell time per state\")\n",
    "for n, p in zip(n_dfnc, no):\n",
    "    rvs1 = dwell[n].loc[severe]\n",
    "    rvs2 = dwell[n].loc[moderate]\n",
    "    p_all[p] = stats.ttest_ind(rvs1,rvs2)[1]\n",
    "    print(\"%s\" % n)\n",
    "    print(\"Moderate deficit: %f\" %(rvs2.mean()))\n",
    "    print(\"Severe Deficit: %f\" %(rvs1.mean()))\n",
    "    print(\"%f\" %stats.ttest_ind(rvs1,rvs2)[1])"
   ]
  },
  {
   "cell_type": "code",
   "execution_count": 22,
   "metadata": {},
   "outputs": [
    {
     "data": {
      "image/png": "[encoded data removed]",
      "text/plain": [
       "<Figure size 1440x720 with 1 Axes>"
      ]
     },
     "metadata": {},
     "output_type": "display_data"
    }
   ],
   "source": [
    "fraction_fig = pd.concat([dwell[\"State_1\"], dwell[\"State_2\"], dwell[\"State_3\"]], axis=0)\n",
    "fraction_fig = pd.DataFrame(fraction_fig)\n",
    "fraction_fig.index = range(0,n_subjects*3)\n",
    "fraction_fig = fraction_fig.rename(index=str, columns={0: \"Dwell\"})\n",
    "fraction_fig[\"State\"] = np.concatenate([np.ones(n_subjects), np.full(n_subjects,2),np.full(n_subjects,3)])\n",
    "fraction_fig[\"Patient_status\"] = np.concatenate([subgroups, subgroups, subgroups])\n",
    "\n",
    "plt.figure(figsize=(20, 10))\n",
    "#sns.set(style=\"ticks\", palette=\"pastel\")   \n",
    "sns.set_style('ticks', {'axes.edgecolor': '0',  \n",
    "                        'xtick.color': '0',\n",
    "                        'ytick.color': '0'})\n",
    "\n",
    "sns.set_context(\"paper\", rc={\"font.size\":30,\"axes.titlesize\":30,\"axes.labelsize\":30}) \n",
    "\n",
    "#sns.stripplot(x=\"State\", y=\"Dwell\", hue=\"Patient_status\",\n",
    "#data=fraction_fig, jitter=True,\n",
    "#palette=[\"skyblue\", \"dodgerblue\", \"blue\"], split=True,linewidth=1,edgecolor='white')\n",
    "#palette=[\"floralwhite\", \"floralwhite\", \"floralwhite\"], split=True,linewidth=1,size=8,edgecolor='grey')\n",
    "\n",
    "# Draw a nested boxplot to show bills by day and time\n",
    "sns.barplot(x=\"State\", y=\"Dwell\",\n",
    "            #hue=\"Patient_status\",palette=[\"mistyrose\", \"salmon\", \"darkred\"],\n",
    "            hue=\"Patient_status\",palette=[\"silver\", \"salmon\", \"darkred\"],\n",
    "            data=fraction_fig)\n",
    "sns.despine(offset=10, trim=True)\n",
    "plt.xticks(fontsize=25)\n",
    "plt.yticks(fontsize=25)\n",
    "\n",
    "plt.legend(bbox_to_anchor=(1.05, 1), loc=2, borderaxespad=0.)\n",
    "plt.show()"
   ]
  },
  {
   "cell_type": "code",
   "execution_count": 23,
   "metadata": {},
   "outputs": [],
   "source": [
    "transition = loadmat('transition.mat')[\"transition\"]"
   ]
  },
  {
   "cell_type": "code",
   "execution_count": 24,
   "metadata": {},
   "outputs": [
    {
     "name": "stdout",
     "output_type": "stream",
     "text": [
      "0\n",
      "0\n",
      "Transition: 0.126363\n",
      "0\n",
      "1\n",
      "Transition: 0.386342\n",
      "0\n",
      "2\n",
      "Transition: 0.390054\n",
      "1\n",
      "0\n",
      "Transition: 0.621572\n",
      "1\n",
      "1\n",
      "Transition: 0.130173\n",
      "1\n",
      "2\n",
      "Transition: 0.053117\n",
      "2\n",
      "0\n",
      "Transition: 0.928609\n",
      "2\n",
      "1\n",
      "Transition: 0.511440\n",
      "2\n",
      "2\n",
      "Transition: 0.668574\n"
     ]
    }
   ],
   "source": [
    "# No significant differences for transition likelihoods between the groups\n",
    "trans_p = []\n",
    "for no_1 in range(0,3,1):\n",
    "    for no_2 in range(0,3,1):\n",
    "        trans_c = []\n",
    "        trans_pb = []\n",
    "        trans_pw = []\n",
    "        for n in mild:\n",
    "                trans_c.append(pd.DataFrame(transition[n]).loc[no_1,no_2])\n",
    "        for n in moderate:\n",
    "                trans_pb.append(pd.DataFrame(transition[n]).loc[no_1,no_2])\n",
    "        for n in severe:\n",
    "                trans_pw.append(pd.DataFrame(transition[n]).loc[no_1,no_2])\n",
    "        print(no_1)\n",
    "        print(no_2)\n",
    "        trans_p.append(stats.f_oneway(np.array(trans_c), np.array(trans_pb),np.array(trans_pw))[1])\n",
    "        print(\"Transition: %f\" %stats.f_oneway(np.array(trans_c), np.array(trans_pb),np.array(trans_pw))[1])\n",
    "              \n",
    "              "
   ]
  },
  {
   "cell_type": "code",
   "execution_count": 25,
   "metadata": {},
   "outputs": [],
   "source": [
    "# Creating state averages (MEDIAN) per subject\n",
    "dfnc_1_med = pd.DataFrame(np.zeros((n_subjects, n_corr)))\n",
    "dfnc_2_med = pd.DataFrame(np.zeros((n_subjects, n_corr)))\n",
    "dfnc_3_med = pd.DataFrame(np.zeros((n_subjects, n_corr)))\n",
    "\n",
    "for n in range(0,n_subjects,1):\n",
    "        dfnc_1_med.loc[n] = np.array(pd.DataFrame(dfnc[n][states.loc[n]==1]).median(axis=0))\n",
    "        dfnc_1_med = pd.DataFrame(dfnc_1_med)\n",
    "        dfnc_2_med.loc[n] = np.array(pd.DataFrame(dfnc[n][states.loc[n]==2]).median(axis=0))\n",
    "        dfnc_2_med = pd.DataFrame(dfnc_2_med)\n",
    "        dfnc_3_med.loc[n] = np.array(pd.DataFrame(dfnc[n][states.loc[n]==3]).median(axis=0))\n",
    "        dfnc_3_med = pd.DataFrame(dfnc_3_med)"
   ]
  },
  {
   "cell_type": "code",
   "execution_count": 26,
   "metadata": {},
   "outputs": [],
   "source": [
    "# compare between subjects\n",
    "a = np.ravel(dfnc)\n",
    "a = np.reshape(a,(8586,78))"
   ]
  },
  {
   "cell_type": "code",
   "execution_count": 27,
   "metadata": {},
   "outputs": [],
   "source": [
    "seg_11_all = []\n",
    "seg_1_all = []\n",
    "\n",
    "for n in range(8586):\n",
    "    dfnc_1_group_med = pd.DataFrame(return_dfnc_from_vector(a[n]))\n",
    "\n",
    "    dfnc_1_group_med_SM = dfnc_1_group_med.loc[0:7,0:7]*(dfnc_1_group_med.loc[0:7,0:7]>0)\n",
    "    dfnc_1_group_med_SM = np.array(dfnc_1_group_med_SM)[np.triu_indices(8,1)]\n",
    "    dfnc_1_group_med_SC = dfnc_1_group_med.loc[8:10,8:10]*(dfnc_1_group_med.loc[8:10,8:10]>0)\n",
    "    dfnc_1_group_med_SC = np.array(dfnc_1_group_med_SC)[np.triu_indices(3,1)]\n",
    "    dfnc_1_group_med_CB = dfnc_1_group_med.loc[11:12,11:12]*(dfnc_1_group_med.loc[11:12,11:12]>0)\n",
    "    dfnc_1_group_med_CB = np.array(dfnc_1_group_med_CB)[np.triu_indices(2,1)]\n",
    "    within_1 = np.concatenate([dfnc_1_group_med_SM, dfnc_1_group_med_SC, dfnc_1_group_med_CB])\n",
    "    within_1 = np.sum(within_1)/(len(dfnc_1_group_med_SM) +len(dfnc_1_group_med_SC)+len(dfnc_1_group_med_CB)) \n",
    "    dfnc_1_group_med_SM_SC_CB = np.array(dfnc_1_group_med.loc[8:,0:7]*(dfnc_1_group_med.loc[8:,0:7]>0))\n",
    "    dfnc_1_group_med_SC_CB = np.array(dfnc_1_group_med.loc[8:10,11:]*(dfnc_1_group_med.loc[8:10,11:]>0))\n",
    "    between_1 = np.concatenate([np.ravel(dfnc_1_group_med_SM_SC_CB),np.ravel(dfnc_1_group_med_SC_CB)])\n",
    "    between_1 = np.sum(between_1)/(len(np.ravel(dfnc_1_group_med_SM_SC_CB)) +len(np.ravel(dfnc_1_group_med_SC_CB))) \n",
    "    seg_11 = (within_1 - between_1) / within_1\n",
    "    seg_11_all.append(seg_11)\n",
    " \n",
    "    dfnc_1_group_med_SM = dfnc_1_group_med.loc[0:7,0:7]\n",
    "    dfnc_1_group_med_SM = np.array(dfnc_1_group_med_SM)[np.triu_indices(8,1)]\n",
    "    dfnc_1_group_med_SC = dfnc_1_group_med.loc[8:10,8:10]\n",
    "    dfnc_1_group_med_SC = np.array(dfnc_1_group_med_SC)[np.triu_indices(3,1)]\n",
    "    dfnc_1_group_med_CB = dfnc_1_group_med.loc[11:12,11:12]\n",
    "    dfnc_1_group_med_CB = np.array(dfnc_1_group_med_CB)[np.triu_indices(2,1)]\n",
    "    within_1 = np.concatenate([dfnc_1_group_med_SM, dfnc_1_group_med_SC, dfnc_1_group_med_CB])\n",
    "    within_1 = np.sum(within_1)/(len(dfnc_1_group_med_SM) +len(dfnc_1_group_med_SC)+len(dfnc_1_group_med_CB)) \n",
    "    dfnc_1_group_med_SM_SC_CB = np.array(dfnc_1_group_med.loc[8:,0:7])\n",
    "    dfnc_1_group_med_SC_CB = np.array(dfnc_1_group_med.loc[8:10,11:])\n",
    "    between_1 = np.concatenate([np.ravel(dfnc_1_group_med_SM_SC_CB),np.ravel(dfnc_1_group_med_SC_CB)])\n",
    "    between_1 = np.sum(between_1)/(len(np.ravel(dfnc_1_group_med_SM_SC_CB)) +len(np.ravel(dfnc_1_group_med_SC_CB))) \n",
    "    seg_1 = (within_1 - between_1) / within_1\n",
    "    seg_1_all.append(seg_1)"
   ]
  },
  {
   "cell_type": "code",
   "execution_count": 28,
   "metadata": {},
   "outputs": [],
   "source": [
    "seg_11_control = []\n",
    "for sub in mild:\n",
    "    sub_raveled = sub*159\n",
    "    for sub_rav in range(sub_raveled, (sub_raveled+159)):\n",
    "        seg_11_control.append(pd.DataFrame(seg_11_all).loc[sub_rav][0])"
   ]
  },
  {
   "cell_type": "code",
   "execution_count": 29,
   "metadata": {},
   "outputs": [
    {
     "data": {
      "text/plain": [
       "0    0.763816\n",
       "dtype: float64"
      ]
     },
     "execution_count": 29,
     "metadata": {},
     "output_type": "execute_result"
    }
   ],
   "source": [
    "# System segregation for controls\n",
    "pd.DataFrame(seg_11_control).mean()"
   ]
  },
  {
   "cell_type": "code",
   "execution_count": 30,
   "metadata": {},
   "outputs": [],
   "source": [
    "seg_11_better = []\n",
    "for sub in moderate:\n",
    "    sub_raveled = sub*159\n",
    "    for sub_rav in range(sub_raveled, (sub_raveled+159)):\n",
    "        seg_11_better.append(pd.DataFrame(seg_11_all).loc[sub_rav][0])"
   ]
  },
  {
   "cell_type": "code",
   "execution_count": 31,
   "metadata": {},
   "outputs": [
    {
     "data": {
      "text/plain": [
       "0    0.739656\n",
       "dtype: float64"
      ]
     },
     "execution_count": 31,
     "metadata": {},
     "output_type": "execute_result"
    }
   ],
   "source": [
    "# System segregation for moderately affected patients\n",
    "pd.DataFrame(seg_11_better).mean()"
   ]
  },
  {
   "cell_type": "code",
   "execution_count": 32,
   "metadata": {},
   "outputs": [],
   "source": [
    "seg_11_worse = []\n",
    "for sub in severe:\n",
    "    sub_raveled = sub*159\n",
    "    for sub_rav in range(sub_raveled, (sub_raveled+159)):\n",
    "        seg_11_worse.append(pd.DataFrame(seg_11_all).loc[sub_rav][0])"
   ]
  },
  {
   "cell_type": "code",
   "execution_count": 33,
   "metadata": {},
   "outputs": [
    {
     "data": {
      "text/plain": [
       "0    0.807129\n",
       "dtype: float64"
      ]
     },
     "execution_count": 33,
     "metadata": {},
     "output_type": "execute_result"
    }
   ],
   "source": [
    "# System segregation for severely affected patients\n",
    "pd.DataFrame(seg_11_worse).mean()"
   ]
  },
  {
   "cell_type": "code",
   "execution_count": 34,
   "metadata": {},
   "outputs": [
    {
     "data": {
      "text/plain": [
       "F_onewayResult(statistic=47.80472988068337, pvalue=2.2565884067951002e-21)"
      ]
     },
     "execution_count": 34,
     "metadata": {},
     "output_type": "execute_result"
    }
   ],
   "source": [
    "# One-Way ANOVA testing between-group differences in system segregation: Indicating a significant effect\n",
    "stats.f_oneway(np.array(seg_11_control), np.array(seg_11_better), np.array(seg_11_worse))"
   ]
  },
  {
   "cell_type": "code",
   "execution_count": 35,
   "metadata": {},
   "outputs": [
    {
     "data": {
      "text/plain": [
       "Ttest_indResult(statistic=5.647911980586883, pvalue=1.68124032369405e-08)"
      ]
     },
     "execution_count": 35,
     "metadata": {},
     "output_type": "execute_result"
    }
   ],
   "source": [
    "# Post-hoc t-test testing differences between controls and moderately affected patients in system segregation: Indicating a significant effect\n",
    "stats.ttest_ind(np.array(seg_11_control),np.array(seg_11_better))"
   ]
  },
  {
   "cell_type": "code",
   "execution_count": 36,
   "metadata": {},
   "outputs": [
    {
     "data": {
      "text/plain": [
       "Ttest_indResult(statistic=-6.9273246778043225, pvalue=4.773813503864772e-12)"
      ]
     },
     "execution_count": 36,
     "metadata": {},
     "output_type": "execute_result"
    }
   ],
   "source": [
    "# Post-hoc t-test testing differences between controls and severely affected patients in system segregation: Indicating a significant effect\n",
    "stats.ttest_ind(np.array(seg_11_control),np.array(seg_11_worse))"
   ]
  },
  {
   "cell_type": "code",
   "execution_count": 37,
   "metadata": {},
   "outputs": [
    {
     "data": {
      "text/plain": [
       "Ttest_indResult(statistic=-8.788752661587644, pvalue=2.2467298056322077e-18)"
      ]
     },
     "execution_count": 37,
     "metadata": {},
     "output_type": "execute_result"
    }
   ],
   "source": [
    "# Post-hoc t-test testing differences between severely and moderately affected patients in system segregation: Indicating a significant effect\n",
    "stats.ttest_ind(np.array(seg_11_better),np.array(seg_11_worse))"
   ]
  },
  {
   "cell_type": "code",
   "execution_count": 38,
   "metadata": {},
   "outputs": [
    {
     "data": {
      "text/plain": [
       "(array([ True,  True,  True]),\n",
       " array([1.68124032e-08, 7.16072026e-12, 6.74018942e-18]),\n",
       " 0.016952427508441503,\n",
       " 0.016666666666666666)"
      ]
     },
     "execution_count": 38,
     "metadata": {},
     "output_type": "execute_result"
    }
   ],
   "source": [
    "import statsmodels.stats.multicomp\n",
    "statsmodels.stats.multitest.multipletests([1.68124032369405e-08,4.773813503864772e-12, 2.2467298056322077e-18], alpha=0.05, method='fdr_bh', is_sorted=False, returnsorted=False)\n"
   ]
  },
  {
   "cell_type": "code",
   "execution_count": null,
   "metadata": {},
   "outputs": [],
   "source": []
  }
 ],
 "metadata": {
  "kernelspec": {
   "display_name": "Python 3",
   "language": "python",
   "name": "python3"
  },
  "language_info": {
   "codemirror_mode": {
    "name": "ipython",
    "version": 3
   },
   "file_extension": ".py",
   "mimetype": "text/x-python",
   "name": "python",
   "nbconvert_exporter": "python",
   "pygments_lexer": "ipython3",
   "version": "3.7.1"
  }
 },
 "nbformat": 4,
 "nbformat_minor": 2
}
