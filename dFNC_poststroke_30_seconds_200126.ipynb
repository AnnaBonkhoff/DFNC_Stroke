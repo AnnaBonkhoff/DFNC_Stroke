{
 "cells": [
  {
   "cell_type": "markdown",
   "metadata": {},
   "source": [
    "Supplementary analysis: Window length of 30 seconds\n",
    "We here replicate the derivation of qualitatively similar three dynamic connectivity states\n",
    "Please note: As the k-means clustering determines the order of States, it here differs: \n",
    "State 1 is State 3 of the main analysis, State 2 is State 1 and State 3 is State 2).\n",
    "As in the main analysis, we find significantly longer fraction and dwell times in a weakly connected state \n",
    "(State 2 of the main analysis, here State 3) in case of moderate symptoms and a trend for longer\n",
    "dwell tims in the densely connected state (State 1 of the main analysis, here State 2) in case of severe\n",
    "symptoms. We here also obtain different fraction and dwell times in State 3 of the main analysis, which do not\n",
    "emerge for 45 or 60 second time windows and might be due to an increased influence of noise at short time\n",
    "windows. Transition likelihoods do not differ significantly."
   ]
  },
  {
   "cell_type": "code",
   "execution_count": 23,
   "metadata": {},
   "outputs": [],
   "source": [
    "# initializing packages\n",
    "import numpy as np\n",
    "import pandas as pd\n",
    "from scipy.io import loadmat\n",
    "import glob\n",
    "import os\n",
    "import sys\n",
    "import matplotlib.pyplot as plt\n",
    "import seaborn as sns\n",
    "sns.set(style=\"white\")\n",
    "\n",
    "from scipy import stats\n",
    "import statsmodels.api as sm\n",
    "from statsmodels.formula.api import ols\n",
    "import statsmodels.stats.multicomp\n",
    "import pyreadstat\n",
    "\n",
    "import scipy.stats as chi2_contingency\n",
    "import scipy.stats as stats\n",
    "from scipy.spatial import distance\n",
    "from matplotlib import cm\n",
    "\n",
    "# increasing display number of pandas columns and rows\n",
    "pd.set_option('display.max_columns', 200)\n",
    "pd.set_option('display.max_rows', 200)\n",
    "\n",
    "# Supplementary analysis: Window length of 30 seconds\n",
    "# We here replicate the derivation of qualitatively similar three dynamic connectivity states\n",
    "# Please note: As the k-means clustering determines the order of States, it here differs: \n",
    "# State 1 is State 3 of the main analysis, State 2 is State 1 and State 3 is State 2).\n",
    "# As in the main analysis, we find significantly longer fraction and dwell times in a weakly connected state \n",
    "# (State 2 of the main analysis, here State 3) in case of moderate symptoms and a trend for longer\n",
    "# dwell tims in the densely connected state (State 1 of the main analysis, here State 2) in case of severe\n",
    "# symptoms. We here also obtain different fraction and dwell times in State 3 of the main analysis, which do not\n",
    "# emerge for 45 or 60 second time windows and might be due to an increased influence of noise at short time\n",
    "# windows. Transition likelihoods do not differ significantly."
   ]
  },
  {
   "cell_type": "code",
   "execution_count": 2,
   "metadata": {},
   "outputs": [],
   "source": [
    "# functions to transform vector to dfnc matrix\n",
    "def calc_num_components(a):\n",
    "    num_pairs = len(a)\n",
    "    num_components = int(np.ceil(np.sqrt(2 * num_pairs - 1)))\n",
    "    if num_components * (num_components - 1) == 2 * num_pairs:\n",
    "        return num_components\n",
    "    else:\n",
    "        return 0\n",
    "\n",
    "\n",
    "def return_dfnc_from_vector(a):\n",
    "    '''This Function returns a dfnc matrix given a vector\n",
    "        a : the vector of correlation pairs\n",
    "    '''\n",
    "    n = calc_num_components(a)\n",
    "    out = np.zeros((n, n))\n",
    "\n",
    "    if not n:\n",
    "        return out\n",
    "    \n",
    "    l_indices = np.tril_indices(n, -1)\n",
    "    u_indices = np.triu_indices(n, 1)\n",
    "\n",
    "    out[u_indices] = a\n",
    "    out[l_indices] = out.T[l_indices]\n",
    "    \n",
    "    return out"
   ]
  },
  {
   "cell_type": "code",
   "execution_count": 3,
   "metadata": {},
   "outputs": [],
   "source": [
    "# variables used throughout the script\n",
    "n_subjects = 48\n",
    "n_controls = 17\n",
    "n_controls_1 = 16 # as python starts indexing with zero\n",
    "n_patients = 31\n",
    "\n",
    "# Number of dFNC windows, number of correlations\n",
    "n_windows = 165\n",
    "n_corr = 78"
   ]
  },
  {
   "cell_type": "code",
   "execution_count": 4,
   "metadata": {},
   "outputs": [],
   "source": [
    "# index of subgroups: worse == ARAT < 29; better == ARAT > 28 \n",
    "worse= [34, 28, 19, 33, 42, 37, 25, 29, 27, 45, 46, 17, 31] \n",
    "better = [36, 38,35, 40, 41, 43,  39,  32, 18, 30, 26, 24, 23, 22, 21, 20, 44, 47] "
   ]
  },
  {
   "cell_type": "code",
   "execution_count": 5,
   "metadata": {},
   "outputs": [],
   "source": [
    "# correct indexing when having behavior of stroke patients only (excluding 17 controls)\n",
    "worse_zero = np.subtract(worse,17)\n",
    "better_zero = np.subtract(better,17)\n",
    "\n",
    "# array indicating worse or better functional status\n",
    "subgroups = np.ones(31)\n",
    "subgroups[worse_zero] = 2"
   ]
  },
  {
   "cell_type": "code",
   "execution_count": 6,
   "metadata": {},
   "outputs": [],
   "source": [
    "# load subject names\n",
    "subject_names = glob.glob('/Users/anna/Documents/LV_Stroke_new/Data/DFNC_LV_1221_30_sec/WithSM_dfnc_sub*',)\n",
    "subject_names = sorted(subject_names)"
   ]
  },
  {
   "cell_type": "code",
   "execution_count": 7,
   "metadata": {},
   "outputs": [],
   "source": [
    "# load individual fncs\n",
    "dfnc = np.zeros((n_subjects,n_windows,n_corr))\n",
    "for n in range(0,n_subjects,1):\n",
    "    \n",
    "    dfnc[n] = loadmat(subject_names[n][-40:])['FNCdyn']"
   ]
  },
  {
   "cell_type": "code",
   "execution_count": 9,
   "metadata": {},
   "outputs": [],
   "source": [
    "# load state information per window \n",
    "x = loadmat('states_stroke.mat')[\"a\"]\n",
    "for n in range(0,np.shape(x)[0],1):\n",
    "    if n==0:\n",
    "        states = pd.DataFrame(x[n][0])\n",
    "    else:\n",
    "        states[n] = pd.DataFrame(x[n][0])\n",
    "states = states.transpose()"
   ]
  },
  {
   "cell_type": "code",
   "execution_count": 10,
   "metadata": {},
   "outputs": [],
   "source": [
    "# Creating state averages (MEDIAN) per subject\n",
    "dfnc_1_med = pd.DataFrame(np.zeros((n_subjects, n_corr)))\n",
    "dfnc_2_med = pd.DataFrame(np.zeros((n_subjects, n_corr)))\n",
    "dfnc_3_med = pd.DataFrame(np.zeros((n_subjects, n_corr)))\n",
    "\n",
    "for n in range(0,n_subjects,1):\n",
    "        dfnc_1_med.loc[n] = np.array(pd.DataFrame(dfnc[n][states.loc[n]==1]).median(axis=0))\n",
    "        dfnc_1_med = pd.DataFrame(dfnc_1_med)\n",
    "        dfnc_2_med.loc[n] = np.array(pd.DataFrame(dfnc[n][states.loc[n]==2]).median(axis=0))\n",
    "        dfnc_2_med = pd.DataFrame(dfnc_2_med)\n",
    "        dfnc_3_med.loc[n] = np.array(pd.DataFrame(dfnc[n][states.loc[n]==3]).median(axis=0))\n",
    "        dfnc_3_med = pd.DataFrame(dfnc_3_med)"
   ]
  },
  {
   "cell_type": "code",
   "execution_count": 16,
   "metadata": {},
   "outputs": [
    {
     "data": {
      "image/png": "[encoded data removed]",
      "text/plain": [
       "<Figure size 720x720 with 2 Axes>"
      ]
     },
     "metadata": {},
     "output_type": "display_data"
    }
   ],
   "source": [
    "# State 1 (please note that the order of states is according to the k-means output. In this window length analysis, State 1 is most similar to State 3 in the main analysis)\n",
    "jet = cm.get_cmap('jet') \n",
    "f, ax = plt.subplots(figsize=(10, 10))\n",
    "sns.heatmap(pd.DataFrame(return_dfnc_from_vector(dfnc_1_med.dropna().median())), cmap=jet, vmax=0.75,vmin=-0.75, center=0,\n",
    "            square=True,linewidths=.5, cbar_kws={\"shrink\": .5})\n",
    "ax.tick_params(labelsize=5)\n",
    "ax.hlines([8, 11], *ax.get_xlim(), colors='black', linewidth=3)\n",
    "ax.vlines([8, 11], *ax.get_xlim(), colors='black', linewidth=3)\n",
    "plt.show()"
   ]
  },
  {
   "cell_type": "code",
   "execution_count": 17,
   "metadata": {},
   "outputs": [
    {
     "data": {
      "image/png": "[encoded data removed]",
      "text/plain": [
       "<Figure size 720x720 with 2 Axes>"
      ]
     },
     "metadata": {},
     "output_type": "display_data"
    }
   ],
   "source": [
    "# State 2 (please note that the order of states is according to the k-means output. In this window length analysis, State 2 is most similar to State 1 in the main analysis)\n",
    "jet = cm.get_cmap('jet') \n",
    "f, ax = plt.subplots(figsize=(10, 10))\n",
    "sns.heatmap(pd.DataFrame(return_dfnc_from_vector(dfnc_2_med.dropna().median())), cmap=jet, vmax=0.75,vmin=-0.75, center=0,\n",
    "            square=True,linewidths=.5, cbar_kws={\"shrink\": .5})\n",
    "ax.tick_params(labelsize=5)\n",
    "ax.hlines([8, 11], *ax.get_xlim(), colors='black', linewidth=3)\n",
    "ax.vlines([8, 11], *ax.get_xlim(), colors='black', linewidth=3)\n",
    "plt.show()"
   ]
  },
  {
   "cell_type": "code",
   "execution_count": 19,
   "metadata": {},
   "outputs": [
    {
     "data": {
      "image/png": "[encoded data removed]",
      "text/plain": [
       "<Figure size 720x720 with 2 Axes>"
      ]
     },
     "metadata": {},
     "output_type": "display_data"
    }
   ],
   "source": [
    "# State 3 (please note that the order of states is according to the k-means output. In this window length analysis, State 3 is most similar to State 2 in the main analysis)\n",
    "jet = cm.get_cmap('jet') \n",
    "f, ax = plt.subplots(figsize=(10, 10))\n",
    "sns.heatmap(pd.DataFrame(return_dfnc_from_vector(dfnc_3_med.dropna().median())), cmap=jet, vmax=0.75,vmin=-0.75, center=0,\n",
    "            square=True,linewidths=.5, cbar_kws={\"shrink\": .5})\n",
    "ax.tick_params(labelsize=5)\n",
    "ax.hlines([8, 11], *ax.get_xlim(), colors='black', linewidth=3)\n",
    "ax.vlines([8, 11], *ax.get_xlim(), colors='black', linewidth=3)\n",
    "plt.show()"
   ]
  },
  {
   "cell_type": "code",
   "execution_count": 20,
   "metadata": {},
   "outputs": [],
   "source": [
    "# load individual fraction times\n",
    "fraction = loadmat('fraction_time.mat')[\"frac\"]\n",
    "fraction = pd.DataFrame(fraction)\n",
    "fraction.columns = [\"State_1\", \"State_2\", \"State_3\"]"
   ]
  },
  {
   "cell_type": "markdown",
   "metadata": {},
   "source": [
    "Subgroup analysis "
   ]
  },
  {
   "cell_type": "code",
   "execution_count": 21,
   "metadata": {},
   "outputs": [
    {
     "name": "stderr",
     "output_type": "stream",
     "text": [
      "/Users/anna/anaconda3/lib/python3.7/site-packages/scipy/stats/stats.py:1713: FutureWarning: Using a non-tuple sequence for multidimensional indexing is deprecated; use `arr[tuple(seq)]` instead of `arr[seq]`. In the future this will be interpreted as an array index, `arr[np.array(seq)]`, which will result either in an error or a different result.\n",
      "  return np.add.reduce(sorted[indexer] * weights, axis=axis) / sumval\n"
     ]
    },
    {
     "data": {
      "text/plain": [
       "[]"
      ]
     },
     "execution_count": 21,
     "metadata": {},
     "output_type": "execute_result"
    },
    {
     "data": {
      "image/png": "[encoded data removed]",
      "text/plain": [
       "<Figure size 2160x720 with 1 Axes>"
      ]
     },
     "metadata": {},
     "output_type": "display_data"
    }
   ],
   "source": [
    "# Once again: State 1 here represents State 3 of the main analysis, State 2 represents State 1 and State 3 State 2 of the main analysis \n",
    "fraction_fig = pd.concat([fraction[\"State_1\"], fraction[\"State_2\"], fraction[\"State_3\"]], axis=0)\n",
    "fraction_fig = pd.DataFrame(fraction_fig)\n",
    "fraction_fig.index = range(0,n_subjects*3)\n",
    "fraction_fig = fraction_fig.rename(index=str, columns={0: \"Fraction\"})\n",
    "fraction_fig[\"State\"] = np.concatenate([np.ones(n_subjects), np.full(n_subjects,2),np.full(n_subjects,3)])\n",
    "fraction_fig[\"Patient_status\"] = np.concatenate([np.zeros(n_controls),subgroups,np.zeros(n_controls), subgroups, np.zeros(n_controls),subgroups])\n",
    "\n",
    "plt.figure(figsize=(30, 10))\n",
    "#sns.set(style=\"ticks\", palette=\"pastel\")   \n",
    "sns.set_style('ticks', {'axes.edgecolor': '0',  \n",
    "                        'xtick.color': '0',\n",
    "                        'ytick.color': '0'})\n",
    "\n",
    "sns.set_context(\"paper\", rc={\"font.size\":30,\"axes.titlesize\":30,\"axes.labelsize\":30}) \n",
    "\n",
    "# Draw a nested boxplot to show bills by day and time\n",
    "sns.barplot(x=\"State\", y=\"Fraction\",\n",
    "            hue=\"Patient_status\",palette=[\"mistyrose\", \"salmon\", \"darkred\"],\n",
    "            #hue=\"Patient_status\",kind=\"bar\",  palette=[\"silver\", \"salmon\", \"darkred\"],\n",
    "            data=fraction_fig)\n",
    "\n",
    "\n",
    "\n",
    "sns.despine(offset=10, trim=True)\n",
    "plt.xticks(fontsize=25)\n",
    "plt.yticks(fontsize=25)\n",
    "\n",
    "plt.legend(bbox_to_anchor=(1.05, 1), loc=2, borderaxespad=0.)\n",
    "plt.plot()"
   ]
  },
  {
   "cell_type": "code",
   "execution_count": 22,
   "metadata": {},
   "outputs": [
    {
     "name": "stdout",
     "output_type": "stream",
     "text": [
      "State 1: 0.023550\n",
      "State 2: 0.282473\n",
      "State 3: 0.049616\n"
     ]
    }
   ],
   "source": [
    "# Three-level one-way ANOVA for fraction times: State 1 and 3 show significant ANOVA-effects (i.e. State 3 and 2 of the main analysis)\n",
    "a = stats.f_oneway(fraction[\"State_1\"].loc[0:n_controls_1], fraction[\"State_1\"].iloc[better],fraction[\"State_1\"].iloc[worse],)[1]\n",
    "b = stats.f_oneway(fraction[\"State_2\"].loc[0:n_controls_1], fraction[\"State_2\"].iloc[better],fraction[\"State_2\"].iloc[worse],)[1]\n",
    "c = stats.f_oneway(fraction[\"State_3\"].loc[0:n_controls_1], fraction[\"State_3\"].iloc[better],fraction[\"State_3\"].iloc[worse],)[1]\n",
    "print(\"State 1: %f\" %stats.f_oneway(fraction[\"State_1\"].loc[0:n_controls_1], fraction[\"State_1\"].iloc[better],fraction[\"State_1\"].iloc[worse],)[1])\n",
    "print(\"State 2: %f\" %stats.f_oneway(fraction[\"State_2\"].loc[0:n_controls_1], fraction[\"State_2\"].iloc[better],fraction[\"State_2\"].iloc[worse],)[1])\n",
    "print(\"State 3: %f\" %stats.f_oneway(fraction[\"State_3\"].loc[0:n_controls_1], fraction[\"State_3\"].iloc[better],fraction[\"State_3\"].iloc[worse],)[1])"
   ]
  },
  {
   "cell_type": "code",
   "execution_count": 13,
   "metadata": {},
   "outputs": [
    {
     "name": "stdout",
     "output_type": "stream",
     "text": [
      "Fraction time: Controls vs Patients with fewer symptoms\n",
      "State_1\n",
      "Deficit: 0.198990\n",
      "No Deficit: 0.396791\n",
      "0.006750\n",
      "State_2\n",
      "Deficit: 0.214478\n",
      "No Deficit: 0.254545\n",
      "0.665947\n",
      "State_3\n",
      "Deficit: 0.586532\n",
      "No Deficit: 0.348663\n",
      "0.015969\n"
     ]
    }
   ],
   "source": [
    "# post-hoc t-test Control vs moderate: Moderately affected patients stay significantly longer in State 3 (the weakly connected State in the main analysis) and shorter in State 1 (State 3 in the main analysis, not significant for a window length of 44 sec)\n",
    "n_dfnc = [\"State_1\", \"State_2\", \"State_3\"]\n",
    "no = [0,1,2,]\n",
    "p_all_better = np.zeros(3)\n",
    "print(\"Fraction time: Controls vs Patients with fewer symptoms\")\n",
    "for n, p in zip(n_dfnc, no):\n",
    "    rvs1 = fraction[n].loc[0:n_controls_1]\n",
    "    rvs2 = fraction[n].iloc[better]\n",
    "    p_all_better[p] = stats.ttest_ind(rvs1,rvs2)[1] \n",
    "    print(\"%s\" % n)\n",
    "    print(\"Deficit: %f\" %(rvs2.mean()))\n",
    "    print(\"No Deficit: %f\" %(rvs1.mean()))\n",
    "    print(\"%f\" %stats.ttest_ind(rvs1,rvs2)[1])"
   ]
  },
  {
   "cell_type": "code",
   "execution_count": 14,
   "metadata": {},
   "outputs": [
    {
     "name": "stdout",
     "output_type": "stream",
     "text": [
      "Fraction time: Controls vs Patients with more symptoms\n",
      "State_1\n",
      "Deficit: 0.241026\n",
      "No Deficit: 0.396791\n",
      "0.061975\n",
      "State_2\n",
      "Deficit: 0.387413\n",
      "No Deficit: 0.254545\n",
      "0.263058\n",
      "State_3\n",
      "Deficit: 0.371562\n",
      "No Deficit: 0.348663\n",
      "0.834488\n"
     ]
    }
   ],
   "source": [
    "# post-hoc t-test Control vs severe: No significances \n",
    "p_all_worse = np.zeros(3)\n",
    "print(\"Fraction time: Controls vs Patients with more symptoms\")\n",
    "for n, p in zip(n_dfnc, no):\n",
    "    rvs1 = fraction[n].loc[0:n_controls_1]\n",
    "    rvs2 = fraction[n].iloc[worse]\n",
    "    p_all_worse[p] = stats.ttest_ind(rvs1,rvs2)[1] \n",
    "    print(\"%s\" % n)\n",
    "    print(\"Deficit: %f\" %(rvs2.mean()))\n",
    "    print(\"No Deficit: %f\" %(rvs1.mean()))\n",
    "    print(\"%f\" %stats.ttest_ind(rvs1,rvs2)[1])"
   ]
  },
  {
   "cell_type": "code",
   "execution_count": 15,
   "metadata": {},
   "outputs": [
    {
     "name": "stdout",
     "output_type": "stream",
     "text": [
      "Fraction time: Patients with moderate vs Patients with severe symptoms\n",
      "State_1\n",
      "Severe Deficit: 0.241026\n",
      "Moderate Deficit: 0.198990\n",
      "0.603679\n",
      "State_2\n",
      "Severe Deficit: 0.387413\n",
      "Moderate Deficit: 0.214478\n",
      "0.149091\n",
      "State_3\n",
      "Severe Deficit: 0.371562\n",
      "Moderate Deficit: 0.586532\n",
      "0.089582\n"
     ]
    }
   ],
   "source": [
    "# post-hoc t-test Moderate vs severe: No significances\n",
    "p_all_bw = np.zeros(3)\n",
    "print(\"Fraction time: Patients with moderate vs Patients with severe symptoms\")\n",
    "for n, p in zip(n_dfnc, no):\n",
    "    rvs1 = fraction[n].iloc[better]\n",
    "    rvs2 = fraction[n].iloc[worse]\n",
    "    p_all_bw[p] = stats.ttest_ind(rvs1,rvs2)[1] \n",
    "    print(\"%s\" % n)\n",
    "    print(\"Severe Deficit: %f\" %(rvs2.mean()))\n",
    "    print(\"Moderate Deficit: %f\" %(rvs1.mean()))\n",
    "    print(\"%f\" %stats.ttest_ind(rvs1,rvs2)[1])"
   ]
  },
  {
   "cell_type": "code",
   "execution_count": 16,
   "metadata": {},
   "outputs": [],
   "source": [
    "# load dwell times\n",
    "dwell = loadmat('dwell_time.mat')[\"dwell\"]\n",
    "dwell = pd.DataFrame(dwell)\n",
    "dwell.columns = [\"State_1\", \"State_2\", \"State_3\"]"
   ]
  },
  {
   "cell_type": "code",
   "execution_count": 17,
   "metadata": {},
   "outputs": [
    {
     "name": "stdout",
     "output_type": "stream",
     "text": [
      "Mean dwell time\n",
      "No deficit: 13.608824\n",
      "Moderate Deficit: 17.491292\n",
      "Severe Deficit: 17.758120\n",
      "Mean dwell time diff: 0.456945\n"
     ]
    }
   ],
   "source": [
    "# Dwell times in general do not differ between the groups\n",
    "rvs1 = np.array(dwell.loc[0:n_controls_1]).ravel()\n",
    "rvs2 = np.array(dwell.iloc[better]).ravel()\n",
    "rvs3 = np.array(dwell.iloc[worse]).ravel()\n",
    "print(\"Mean dwell time\")\n",
    "print(\"No deficit: %f\" %(rvs1.mean()))\n",
    "print(\"Moderate Deficit: %f\" %(rvs2.mean()))\n",
    "print(\"Severe Deficit: %f\" %(rvs3.mean()))\n",
    "print(\"Mean dwell time diff: %f\" %stats.f_oneway(rvs1, rvs2,rvs3,)[1])"
   ]
  },
  {
   "cell_type": "code",
   "execution_count": 18,
   "metadata": {},
   "outputs": [
    {
     "data": {
      "text/plain": [
       "<matplotlib.legend.Legend at 0x1c1e35cb70>"
      ]
     },
     "execution_count": 18,
     "metadata": {},
     "output_type": "execute_result"
    },
    {
     "data": {
      "image/png": "[encoded data removed]",
      "text/plain": [
       "<Figure size 1440x720 with 1 Axes>"
      ]
     },
     "metadata": {},
     "output_type": "display_data"
    }
   ],
   "source": [
    "# Once again: State 1 here represents State 3 of the main analysis, State 2 represents State 1 and State 3 State 2 of the main analysis \n",
    "\n",
    "fraction_fig = pd.concat([dwell[\"State_1\"], dwell[\"State_2\"], dwell[\"State_3\"]], axis=0)\n",
    "fraction_fig = pd.DataFrame(fraction_fig)\n",
    "fraction_fig.index = range(0,n_subjects*3)\n",
    "fraction_fig = fraction_fig.rename(index=str, columns={0: \"Dwell\"})\n",
    "fraction_fig[\"State\"] = np.concatenate([np.ones(n_subjects), np.full(n_subjects,2),np.full(n_subjects,3)])\n",
    "fraction_fig[\"Patient_status\"] = np.concatenate([np.zeros(n_controls),subgroups,np.zeros(n_controls), subgroups, np.zeros(n_controls),subgroups])\n",
    "\n",
    "plt.figure(figsize=(20, 10))\n",
    "#sns.set(style=\"ticks\", palette=\"pastel\")   \n",
    "sns.set_style('ticks', {'axes.edgecolor': '0',  \n",
    "                        'xtick.color': '0',\n",
    "                        'ytick.color': '0'})\n",
    "\n",
    "sns.set_context(\"paper\", rc={\"font.size\":30,\"axes.titlesize\":30,\"axes.labelsize\":30}) \n",
    "\n",
    "# Draw a nested boxplot to show bills by day and time\n",
    "sns.barplot(x=\"State\", y=\"Dwell\",\n",
    "            #hue=\"Patient_status\",palette=[\"mistyrose\", \"salmon\", \"darkred\"],\n",
    "            hue=\"Patient_status\",palette=[\"silver\", \"salmon\", \"darkred\"],\n",
    "            data=fraction_fig)\n",
    "sns.despine(offset=10, trim=True)\n",
    "plt.xticks(fontsize=25)\n",
    "plt.yticks(fontsize=25)\n",
    "\n",
    "plt.legend(bbox_to_anchor=(1.05, 1), loc=2, borderaxespad=0.)\n"
   ]
  },
  {
   "cell_type": "code",
   "execution_count": 19,
   "metadata": {},
   "outputs": [
    {
     "name": "stdout",
     "output_type": "stream",
     "text": [
      "State 1: 0.008525\n",
      "State 2: 0.113220\n",
      "State 3: 0.031142\n"
     ]
    }
   ],
   "source": [
    "# Three-level one-way ANOVA for fraction times: Significant differences for State 1 (State 3 in the main analysis) and State 3 (State 2 in the main analysis)\n",
    "d = stats.f_oneway(dwell[\"State_1\"].loc[0:n_controls_1], dwell[\"State_1\"].iloc[better],dwell[\"State_1\"].iloc[worse],)[1]\n",
    "e = stats.f_oneway(dwell[\"State_2\"].loc[0:n_controls_1], dwell[\"State_2\"].iloc[better],dwell[\"State_2\"].iloc[worse],)[1]\n",
    "f = stats.f_oneway(dwell[\"State_3\"].loc[0:n_controls_1], dwell[\"State_3\"].iloc[better],dwell[\"State_3\"].iloc[worse],)[1]\n",
    "print(\"State 1: %f\" %stats.f_oneway(dwell[\"State_1\"].loc[0:n_controls_1], dwell[\"State_1\"].iloc[better],dwell[\"State_1\"].iloc[worse],)[1])\n",
    "print(\"State 2: %f\" %stats.f_oneway(dwell[\"State_2\"].loc[0:n_controls_1], dwell[\"State_2\"].iloc[better],dwell[\"State_2\"].iloc[worse],)[1])\n",
    "print(\"State 3: %f\" %stats.f_oneway(dwell[\"State_3\"].loc[0:n_controls_1], dwell[\"State_3\"].iloc[better],dwell[\"State_3\"].iloc[worse],)[1])"
   ]
  },
  {
   "cell_type": "code",
   "execution_count": 20,
   "metadata": {},
   "outputs": [
    {
     "name": "stdout",
     "output_type": "stream",
     "text": [
      "Dwell time: Controls vs Patients with fewer symptoms\n",
      "State_1\n",
      "Deficit: 7.806746\n",
      "No Deficit: 16.640196\n",
      "0.003004\n",
      "State_2\n",
      "Deficit: 12.268981\n",
      "No Deficit: 10.909804\n",
      "0.778556\n",
      "State_3\n",
      "Deficit: 32.398148\n",
      "No Deficit: 13.276471\n",
      "0.015831\n"
     ]
    }
   ],
   "source": [
    "# post-hoc t-test Control vs moderate: Moderately affected patients stay significantly longer in State 2 of the main analysis and short in State 3 of the main analysis at any one time \n",
    "p_all_better = np.zeros(3)\n",
    "print(\"Dwell time: Controls vs Patients with fewer symptoms\")\n",
    "for n, p in zip(n_dfnc, no):\n",
    "    rvs1 = dwell[n].loc[0:n_controls_1]\n",
    "    rvs2 = dwell[n].iloc[better]\n",
    "    p_all_better[p] = stats.ttest_ind(rvs1,rvs2)[1] \n",
    "    print(\"%s\" % n)\n",
    "    print(\"Deficit: %f\" %(rvs2.mean()))\n",
    "    print(\"No Deficit: %f\" %(rvs1.mean()))\n",
    "    print(\"%f\" %stats.ttest_ind(rvs1,rvs2)[1])"
   ]
  },
  {
   "cell_type": "code",
   "execution_count": 21,
   "metadata": {},
   "outputs": [
    {
     "name": "stdout",
     "output_type": "stream",
     "text": [
      "Dwell time: Controls vs Patients with more symptoms\n",
      "State_1\n",
      "Deficit: 9.898168\n",
      "No Deficit: 16.640196\n",
      "0.063785\n",
      "State_2\n",
      "Deficit: 24.624359\n",
      "No Deficit: 10.909804\n",
      "0.068380\n",
      "State_3\n",
      "Deficit: 18.751832\n",
      "No Deficit: 13.276471\n",
      "0.311070\n"
     ]
    }
   ],
   "source": [
    "# post-hoc t-test Control vs severe: Severely affected patients show a trend for longer dwell times in State 3 of the main analysis (State 2 here)\n",
    "p_all_worse = np.zeros(3)\n",
    "print(\"Dwell time: Controls vs Patients with more symptoms\")\n",
    "for n, p in zip(n_dfnc, no):\n",
    "    rvs1 = dwell[n].loc[0:n_controls_1]\n",
    "    rvs2 = dwell[n].iloc[worse]\n",
    "    p_all_worse[p] = stats.ttest_ind(rvs1,rvs2)[1] \n",
    "    print(\"%s\" % n)\n",
    "    print(\"Deficit: %f\" %(rvs2.mean()))\n",
    "    print(\"No Deficit: %f\" %(rvs1.mean()))\n",
    "    print(\"%f\" %stats.ttest_ind(rvs1,rvs2)[1])"
   ]
  },
  {
   "cell_type": "code",
   "execution_count": 22,
   "metadata": {},
   "outputs": [
    {
     "name": "stdout",
     "output_type": "stream",
     "text": [
      "Dwell time: Controls vs Patients with more symptoms\n",
      "State_1\n",
      "Deficit: 9.898168\n",
      "No Deficit: 7.806746\n",
      "0.425124\n",
      "State_2\n",
      "Deficit: 24.624359\n",
      "No Deficit: 12.268981\n",
      "0.139573\n",
      "State_3\n",
      "Deficit: 18.751832\n",
      "No Deficit: 32.398148\n",
      "0.147422\n"
     ]
    }
   ],
   "source": [
    "# post-hoc t-test moderate vs severe: No significant differences\n",
    "p_all_bw = np.zeros(3)\n",
    "print(\"Dwell time: Controls vs Patients with more symptoms\")\n",
    "for n, p in zip(n_dfnc, no):\n",
    "    rvs1 = dwell[n].iloc[better]\n",
    "    rvs2 = dwell[n].iloc[worse]\n",
    "    p_all_bw[p] = stats.ttest_ind(rvs1,rvs2)[1] \n",
    "    print(\"%s\" % n)\n",
    "    print(\"Deficit: %f\" %(rvs2.mean()))\n",
    "    print(\"No Deficit: %f\" %(rvs1.mean()))\n",
    "    print(\"%f\" %stats.ttest_ind(rvs1,rvs2)[1])"
   ]
  },
  {
   "cell_type": "code",
   "execution_count": 23,
   "metadata": {},
   "outputs": [
    {
     "name": "stdout",
     "output_type": "stream",
     "text": [
      "Mean No of transitions\n",
      "No deficit: 10.000000\n",
      "Moderate Deficit: 8.388889\n",
      "Severe Deficit: 7.769231\n",
      "Mean dwell time diff: 0.360344\n"
     ]
    }
   ],
   "source": [
    "# No significant group effects for the number of transitions\n",
    "num_trans = loadmat('num_trans.mat')[\"num_trans\"]\n",
    "num_trans = pd.DataFrame(num_trans)\n",
    "rvs1 = num_trans.loc[0:n_controls_1]\n",
    "rvs2 = num_trans.iloc[better]\n",
    "rvs3 = num_trans.iloc[worse]\n",
    "print(\"Mean No of transitions\")\n",
    "print(\"No deficit: %f\" %(rvs1.mean()))\n",
    "print(\"Moderate Deficit: %f\" %(rvs2.mean()))\n",
    "print(\"Severe Deficit: %f\" %(rvs3.mean()))\n",
    "print(\"Mean dwell time diff: %f\" %stats.f_oneway(rvs1, rvs2,rvs3,)[1])"
   ]
  },
  {
   "cell_type": "code",
   "execution_count": 24,
   "metadata": {},
   "outputs": [
    {
     "data": {
      "text/plain": [
       "<matplotlib.legend.Legend at 0x1c1e3bc748>"
      ]
     },
     "execution_count": 24,
     "metadata": {},
     "output_type": "execute_result"
    },
    {
     "data": {
      "image/png": "[encoded data removed]",
      "text/plain": [
       "<Figure size 720x720 with 1 Axes>"
      ]
     },
     "metadata": {},
     "output_type": "display_data"
    }
   ],
   "source": [
    "fraction_fig = pd.DataFrame(num_trans)\n",
    "fraction_fig = fraction_fig.rename(index=str, columns={0: \"Transistions\"})\n",
    "fraction_fig[\"State\"] = np.concatenate([np.ones(n_subjects),])\n",
    "fraction_fig[\"Patient_status\"] = np.concatenate([np.zeros(n_controls),subgroups,])\n",
    "\n",
    "plt.figure(figsize=(10, 10))\n",
    "#sns.set(style=\"ticks\", palette=\"pastel\")   \n",
    "sns.set_style('ticks', {'axes.edgecolor': '0',  \n",
    "                        'xtick.color': '0',\n",
    "                        'ytick.color': '0'})\n",
    "\n",
    "sns.set_context(\"paper\", rc={\"font.size\":30,\"axes.titlesize\":30,\"axes.labelsize\":30}) \n",
    "\n",
    "# Draw a nested boxplot to show bills by day and time\n",
    "sns.barplot(x=\"State\", y=\"Transistions\",\n",
    "            #hue=\"Patient_status\",palette=[\"mistyrose\", \"salmon\", \"darkred\"],\n",
    "            hue=\"Patient_status\",palette=[\"silver\", \"salmon\", \"darkred\"],\n",
    "            data=fraction_fig)\n",
    "sns.despine(offset=10, trim=True)\n",
    "plt.xticks(fontsize=25)\n",
    "plt.yticks(fontsize=25)\n",
    "\n",
    "plt.legend(bbox_to_anchor=(1.05, 1), loc=2, borderaxespad=0.)\n",
    "\n"
   ]
  },
  {
   "cell_type": "code",
   "execution_count": 25,
   "metadata": {},
   "outputs": [],
   "source": [
    "# load transition likelihood\n",
    "transition = loadmat('transition.mat')[\"transition\"]"
   ]
  },
  {
   "cell_type": "code",
   "execution_count": 26,
   "metadata": {},
   "outputs": [
    {
     "name": "stdout",
     "output_type": "stream",
     "text": [
      "0\n",
      "0\n",
      "Transition: 0.256727\n",
      "0\n",
      "1\n",
      "Transition: 0.301014\n",
      "0\n",
      "2\n",
      "Transition: 0.078075\n",
      "1\n",
      "0\n",
      "Transition: 0.548944\n",
      "1\n",
      "1\n",
      "Transition: 0.556503\n",
      "1\n",
      "2\n",
      "Transition: 0.645114\n",
      "2\n",
      "0\n",
      "Transition: 0.176249\n",
      "2\n",
      "1\n",
      "Transition: 0.949630\n",
      "2\n",
      "2\n",
      "Transition: 0.847700\n"
     ]
    }
   ],
   "source": [
    "# Three-level one-way ANOVA transition likelihoods (from state, to state)\n",
    "trans_p = []\n",
    "for no_1 in range(0,3,1):\n",
    "    for no_2 in range(0,3,1):\n",
    "        trans_c = []\n",
    "        trans_pb = []\n",
    "        trans_pw = []\n",
    "        for n in range(0,n_controls,1):\n",
    "                trans_c.append(pd.DataFrame(transition[n]).loc[no_1,no_2])\n",
    "        for n in better:\n",
    "                trans_pb.append(pd.DataFrame(transition[n]).loc[no_1,no_2])\n",
    "        for n in worse:\n",
    "                trans_pw.append(pd.DataFrame(transition[n]).loc[no_1,no_2])\n",
    "        print(no_1)\n",
    "        print(no_2)\n",
    "        trans_p.append(stats.f_oneway(np.array(trans_c), np.array(trans_pb),np.array(trans_pw))[1])\n",
    "        print(\"Transition: %f\" %stats.f_oneway(np.array(trans_c), np.array(trans_pb),np.array(trans_pw))[1])\n",
    "              \n",
    "              "
   ]
  },
  {
   "cell_type": "code",
   "execution_count": 27,
   "metadata": {},
   "outputs": [
    {
     "name": "stdout",
     "output_type": "stream",
     "text": [
      "0\n",
      "0\n",
      "Mean controls: 0.921998\n",
      "Mean better: 0.892970\n",
      "Stats 0.192746\n",
      "0\n",
      "1\n",
      "Mean controls: 0.039118\n",
      "Mean better: 0.023273\n",
      "Stats 0.319335\n",
      "0\n",
      "2\n",
      "Mean controls: 0.038884\n",
      "Mean better: 0.083757\n",
      "Stats 0.008953\n",
      "1\n",
      "0\n",
      "Mean controls: 0.021458\n",
      "Mean better: 0.019363\n",
      "Stats 0.818392\n",
      "1\n",
      "1\n",
      "Mean controls: 0.881311\n",
      "Mean better: 0.932416\n",
      "Stats 0.123494\n",
      "1\n",
      "2\n",
      "Mean controls: 0.097230\n",
      "Mean better: 0.048221\n",
      "Stats 0.147428\n",
      "2\n",
      "0\n",
      "Mean controls: 0.057968\n",
      "Mean better: 0.030806\n",
      "Stats 0.047507\n",
      "2\n",
      "1\n",
      "Mean controls: 0.036899\n",
      "Mean better: 0.045934\n",
      "Stats 0.769689\n",
      "2\n",
      "2\n",
      "Mean controls: 0.905134\n",
      "Mean better: 0.923260\n",
      "Stats 0.600342\n"
     ]
    }
   ],
   "source": [
    "# post-hoc t-test controls vs moderate\n",
    "for no_1 in range(0,3,1):\n",
    "    for no_2 in range(0,3,1):\n",
    "        trans_c_11 = []\n",
    "        trans_p_11 = []\n",
    "        print(no_1)\n",
    "        print(no_2)\n",
    "        for n in range(0,n_controls,1):\n",
    "                trans_c_11.append(pd.DataFrame(transition[n]).loc[no_1,no_2])\n",
    "        print(\"Mean controls: %f\" %np.array(trans_c_11).mean())\n",
    "        for n in better:\n",
    "                trans_p_11.append(pd.DataFrame(transition[n]).loc[no_1,no_2])\n",
    "        print(\"Mean better: %f\" %np.array(trans_p_11).mean())\n",
    "        print(\"Stats %f\" %stats.ttest_ind(np.array(trans_c_11),np.array(trans_p_11))[1]) "
   ]
  },
  {
   "cell_type": "code",
   "execution_count": 28,
   "metadata": {},
   "outputs": [
    {
     "name": "stdout",
     "output_type": "stream",
     "text": [
      "0\n",
      "0\n",
      "Mean controls: 0.921998\n",
      "Mean worse: 0.831354\n",
      "0.182066\n",
      "0\n",
      "1\n",
      "Mean controls: 0.039118\n",
      "Mean worse: 0.103701\n",
      "0.344541\n",
      "0\n",
      "2\n",
      "Mean controls: 0.038884\n",
      "Mean worse: 0.064945\n",
      "0.206853\n",
      "1\n",
      "0\n",
      "Mean controls: 0.021458\n",
      "Mean worse: 0.031701\n",
      "0.422090\n",
      "1\n",
      "1\n",
      "Mean controls: 0.881311\n",
      "Mean worse: 0.878687\n",
      "0.971623\n",
      "1\n",
      "2\n",
      "Mean controls: 0.097230\n",
      "Mean worse: 0.089612\n",
      "0.920231\n",
      "2\n",
      "0\n",
      "Mean controls: 0.057968\n",
      "Mean worse: 0.041536\n",
      "0.359341\n",
      "2\n",
      "1\n",
      "Mean controls: 0.036899\n",
      "Mean worse: 0.043426\n",
      "0.761401\n",
      "2\n",
      "2\n",
      "Mean controls: 0.905134\n",
      "Mean worse: 0.915038\n",
      "0.735831\n"
     ]
    }
   ],
   "source": [
    "# post-hoc t-test controls vs severe\n",
    "for no_1 in range(0,3,1):\n",
    "    for no_2 in range(0,3,1):\n",
    "        trans_c_11 = []\n",
    "        trans_p_11 = []\n",
    "        print(no_1)\n",
    "        print(no_2)\n",
    "        for n in range(0,n_controls,1):\n",
    "                trans_c_11.append(pd.DataFrame(transition[n]).loc[no_1,no_2])\n",
    "        print(\"Mean controls: %f\" %np.array(trans_c_11).mean())\n",
    "        for n in worse:\n",
    "                trans_p_11.append(pd.DataFrame(transition[n]).loc[no_1,no_2])\n",
    "        print(\"Mean worse: %f\" %np.array(trans_p_11).mean())\n",
    "        print(\"%f\" %stats.ttest_ind(np.array(trans_c_11),np.array(trans_p_11))[1]) "
   ]
  },
  {
   "cell_type": "code",
   "execution_count": 29,
   "metadata": {},
   "outputs": [
    {
     "name": "stdout",
     "output_type": "stream",
     "text": [
      "0\n",
      "0\n",
      "Mean better: 0.892970\n",
      "Mean worse: 0.831354\n",
      "0.354484\n",
      "0\n",
      "1\n",
      "Mean better: 0.023273\n",
      "Mean worse: 0.103701\n",
      "0.221818\n",
      "0\n",
      "2\n",
      "Mean better: 0.083757\n",
      "Mean worse: 0.064945\n",
      "0.455858\n",
      "1\n",
      "0\n",
      "Mean better: 0.019363\n",
      "Mean worse: 0.031701\n",
      "0.347395\n",
      "1\n",
      "1\n",
      "Mean better: 0.932416\n",
      "Mean worse: 0.878687\n",
      "0.415690\n",
      "1\n",
      "2\n",
      "Mean better: 0.048221\n",
      "Mean worse: 0.089612\n",
      "0.533799\n",
      "2\n",
      "0\n",
      "Mean better: 0.030806\n",
      "Mean worse: 0.041536\n",
      "0.474132\n",
      "2\n",
      "1\n",
      "Mean better: 0.045934\n",
      "Mean worse: 0.043426\n",
      "0.945162\n",
      "2\n",
      "2\n",
      "Mean better: 0.923260\n",
      "Mean worse: 0.915038\n",
      "0.815656\n"
     ]
    }
   ],
   "source": [
    "# post-hoc t-test moderate vs severe\n",
    "for no_1 in range(0,3,1):\n",
    "    for no_2 in range(0,3,1):\n",
    "        trans_c_11 = []\n",
    "        trans_p_11 = []\n",
    "        print(no_1)\n",
    "        print(no_2)\n",
    "        for n in better:\n",
    "                trans_c_11.append(pd.DataFrame(transition[n]).loc[no_1,no_2])\n",
    "        print(\"Mean better: %f\" %np.array(trans_c_11).mean())\n",
    "        for n in worse:\n",
    "                trans_p_11.append(pd.DataFrame(transition[n]).loc[no_1,no_2])\n",
    "        print(\"Mean worse: %f\" %np.array(trans_p_11).mean())\n",
    "        print(\"%f\" %stats.ttest_ind(np.array(trans_c_11),np.array(trans_p_11))[1]) "
   ]
  },
  {
   "cell_type": "code",
   "execution_count": null,
   "metadata": {},
   "outputs": [],
   "source": []
  }
 ],
 "metadata": {
  "kernelspec": {
   "display_name": "Python 3",
   "language": "python",
   "name": "python3"
  },
  "language_info": {
   "codemirror_mode": {
    "name": "ipython",
    "version": 3
   },
   "file_extension": ".py",
   "mimetype": "text/x-python",
   "name": "python",
   "nbconvert_exporter": "python",
   "pygments_lexer": "ipython3",
   "version": "3.7.1"
  }
 },
 "nbformat": 4,
 "nbformat_minor": 2
}
